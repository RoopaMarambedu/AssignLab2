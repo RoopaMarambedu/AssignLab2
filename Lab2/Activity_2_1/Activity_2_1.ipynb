{
  "cells": [
    {
      "cell_type": "markdown",
      "metadata": {
        "id": "BSx1wHP9iE-b"
      },
      "source": [
        "# Data Analysis and Plotting in Python\n",
        "\n",
        "This tutorial is...\n",
        "* introductory and geared towards people new to Python\n",
        "* interactive with simple exercises along the way\n",
        "\n",
        "We'll be introducing Pandas for data handling and analysis, and using Matplotlib, Seaborn and Bokeh for visualization\n",
        "\n",
        "** Please execute sequentially **"
      ]
    },
    {
      "cell_type": "markdown",
      "metadata": {
        "id": "6bkH0at4iE-f"
      },
      "source": [
        "## What is pandas?\n",
        "\n",
        "[Pandas](https://pandas.pydata.org/pandas-docs/stable/) provides objects for working with data - `Series` and `DataFrame`\n",
        "\n",
        "Data structures have methods for manipulating data eg. indexing, sorting, grouping, filling in missing data\n",
        "\n",
        "Pandas does not provide modeling tools eg. regression, prediction\n",
        "* These tools are found in packages such as `scikit-learn` and `statsmodels`, which are built on top of pandas"
      ]
    },
    {
      "cell_type": "markdown",
      "metadata": {
        "id": "EK4Gf2PTiE-g"
      },
      "source": [
        "## DataFrames\n",
        "\n",
        "A `DataFrame` combines multiple 'columns' of data into a two-dimensional object, similar to a spreadsheet"
      ]
    },
    {
      "cell_type": "markdown",
      "metadata": {
        "id": "FT_-AxljKjgk"
      },
      "source": [
        "**Q1 Display the image dataframe.jpg(5 points)**"
      ]
    },
    {
      "cell_type": "code",
      "execution_count": 1,
      "metadata": {
        "id": "0J2h3ErdiE-h"
      },
      "outputs": [
        {
          "data": {
            "image/jpeg": "[encoded data removed]",
            "text/plain": [
              "<IPython.core.display.Image object>"
            ]
          },
          "execution_count": 1,
          "metadata": {},
          "output_type": "execute_result"
        }
      ],
      "source": [
        "from IPython.display import Image\n",
        "\n",
        "Image(filename='../Activity_2_1/dataframe.jpg')\n"
      ]
    },
    {
      "cell_type": "markdown",
      "metadata": {
        "id": "ulMHQk3PiE-i"
      },
      "source": [
        "We will create a `DataFrame` by reading in a CSV file and assigning it to the variable name `data`"
      ]
    },
    {
      "cell_type": "markdown",
      "metadata": {
        "id": "xZp2vNNniE-j"
      },
      "source": [
        "### Info on the data set\n",
        "\n",
        "* The data come from ['Assessing the Rate of Replication in Economics'](https://www.aeaweb.org/articles?id=10.1257/aer.p20171119), *American Economics Review: Papers & Proceedings*, 2017\n",
        "* The dataframe `data` contains 70 empirical papers from AER's 100th volume\n",
        "* `Web of Science`: number of Web of Science citations\n",
        "* `Top 200`: number of Top 200 economics journal citations\n",
        "* `Google Scholar`: number of Google Scholar citations\n",
        "* `Replications`: number of citations that are replications of the paper\n",
        "* `Extensions`: number of citations that are extensions of the paper\n",
        "* `Both`: number of citations that are either replications or extensions of the paper"
      ]
    },
    {
      "cell_type": "code",
      "execution_count": 2,
      "metadata": {
        "colab": {
          "base_uri": "https://localhost:8080/",
          "height": 206
        },
        "id": "StXJ63kdiE-k",
        "outputId": "9c3270c7-2b55-45ba-c01f-11c305b3b4fe",
        "scrolled": true
      },
      "outputs": [
        {
          "data": {
            "text/html": [
              "<div>\n",
              "<style scoped>\n",
              "    .dataframe tbody tr th:only-of-type {\n",
              "        vertical-align: middle;\n",
              "    }\n",
              "\n",
              "    .dataframe tbody tr th {\n",
              "        vertical-align: top;\n",
              "    }\n",
              "\n",
              "    .dataframe thead th {\n",
              "        text-align: right;\n",
              "    }\n",
              "</style>\n",
              "<table border=\"1\" class=\"dataframe\">\n",
              "  <thead>\n",
              "    <tr style=\"text-align: right;\">\n",
              "      <th></th>\n",
              "      <th>ID</th>\n",
              "      <th>Title</th>\n",
              "      <th>Web of Science</th>\n",
              "      <th>Top 200</th>\n",
              "      <th>Google Scholar</th>\n",
              "      <th>Field</th>\n",
              "      <th>Replications</th>\n",
              "      <th>Extensions</th>\n",
              "      <th>Both</th>\n",
              "    </tr>\n",
              "  </thead>\n",
              "  <tbody>\n",
              "    <tr>\n",
              "      <th>0</th>\n",
              "      <td>2</td>\n",
              "      <td>Learning about a New Technology: Pineapple in ...</td>\n",
              "      <td>176</td>\n",
              "      <td>108.0</td>\n",
              "      <td>1246</td>\n",
              "      <td>Development</td>\n",
              "      <td>1.0</td>\n",
              "      <td>10.0</td>\n",
              "      <td>11.0</td>\n",
              "    </tr>\n",
              "    <tr>\n",
              "      <th>1</th>\n",
              "      <td>3</td>\n",
              "      <td>Multiple-Product Firms and Product Switching</td>\n",
              "      <td>111</td>\n",
              "      <td>74.0</td>\n",
              "      <td>764</td>\n",
              "      <td>Labor/IO</td>\n",
              "      <td>1.0</td>\n",
              "      <td>2.0</td>\n",
              "      <td>3.0</td>\n",
              "    </tr>\n",
              "    <tr>\n",
              "      <th>2</th>\n",
              "      <td>4</td>\n",
              "      <td>Momma's Got the Pill\": How Anthony Comstock an...</td>\n",
              "      <td>23</td>\n",
              "      <td>15.0</td>\n",
              "      <td>98</td>\n",
              "      <td>Labor/IO</td>\n",
              "      <td>2.0</td>\n",
              "      <td>0.0</td>\n",
              "      <td>2.0</td>\n",
              "    </tr>\n",
              "    <tr>\n",
              "      <th>3</th>\n",
              "      <td>5</td>\n",
              "      <td>Matching and Sorting in Online Dating</td>\n",
              "      <td>75</td>\n",
              "      <td>23.0</td>\n",
              "      <td>326</td>\n",
              "      <td>Labor/IO</td>\n",
              "      <td>0.0</td>\n",
              "      <td>5.0</td>\n",
              "      <td>5.0</td>\n",
              "    </tr>\n",
              "    <tr>\n",
              "      <th>4</th>\n",
              "      <td>6</td>\n",
              "      <td>Entry, Exit, and Investment-Specific Technical...</td>\n",
              "      <td>9</td>\n",
              "      <td>9.0</td>\n",
              "      <td>38</td>\n",
              "      <td>Macro/Int/Trade</td>\n",
              "      <td>0.0</td>\n",
              "      <td>0.0</td>\n",
              "      <td>0.0</td>\n",
              "    </tr>\n",
              "  </tbody>\n",
              "</table>\n",
              "</div>"
            ],
            "text/plain": [
              "   ID                                              Title  Web of Science  \\\n",
              "0   2  Learning about a New Technology: Pineapple in ...             176   \n",
              "1   3       Multiple-Product Firms and Product Switching             111   \n",
              "2   4  Momma's Got the Pill\": How Anthony Comstock an...              23   \n",
              "3   5              Matching and Sorting in Online Dating              75   \n",
              "4   6  Entry, Exit, and Investment-Specific Technical...               9   \n",
              "\n",
              "   Top 200  Google Scholar            Field  Replications  Extensions  Both  \n",
              "0    108.0            1246      Development           1.0        10.0  11.0  \n",
              "1     74.0             764         Labor/IO           1.0         2.0   3.0  \n",
              "2     15.0              98         Labor/IO           2.0         0.0   2.0  \n",
              "3     23.0             326         Labor/IO           0.0         5.0   5.0  \n",
              "4      9.0              38  Macro/Int/Trade           0.0         0.0   0.0  "
            ]
          },
          "execution_count": 2,
          "metadata": {},
          "output_type": "execute_result"
        }
      ],
      "source": [
        "import pandas as pd  # Import the package\n",
        "\n",
        "data = pd.read_csv('data.csv')\n",
        "data.head()"
      ]
    },
    {
      "cell_type": "code",
      "execution_count": 3,
      "metadata": {
        "id": "1bpWN8tWiE-k",
        "outputId": "f2db123d-ae9a-4d99-ca37-07f6e39b4270"
      },
      "outputs": [
        {
          "name": "stdout",
          "output_type": "stream",
          "text": [
            "<class 'pandas.core.frame.DataFrame'>\n",
            "RangeIndex: 70 entries, 0 to 69\n",
            "Data columns (total 9 columns):\n",
            " #   Column          Non-Null Count  Dtype  \n",
            "---  ------          --------------  -----  \n",
            " 0   ID              70 non-null     int64  \n",
            " 1   Title           70 non-null     object \n",
            " 2   Web of Science  70 non-null     int64  \n",
            " 3   Top 200         70 non-null     float64\n",
            " 4   Google Scholar  70 non-null     int64  \n",
            " 5   Field           70 non-null     object \n",
            " 6   Replications    70 non-null     float64\n",
            " 7   Extensions      70 non-null     float64\n",
            " 8   Both            70 non-null     float64\n",
            "dtypes: float64(4), int64(3), object(2)\n",
            "memory usage: 5.1+ KB\n"
          ]
        }
      ],
      "source": [
        "data.info()"
      ]
    },
    {
      "cell_type": "markdown",
      "metadata": {
        "id": "8li-2IGkiE-l"
      },
      "source": [
        "We can access individual columns of data, returning a `Series`"
      ]
    },
    {
      "cell_type": "code",
      "execution_count": 4,
      "metadata": {
        "id": "J96-YovhiE-l",
        "outputId": "17b50fde-50f8-4131-ec7f-38977d0ce1cc"
      },
      "outputs": [
        {
          "data": {
            "text/plain": [
              "0    108.0\n",
              "1     74.0\n",
              "2     15.0\n",
              "3     23.0\n",
              "4      9.0\n",
              "Name: Top 200, dtype: float64"
            ]
          },
          "execution_count": 4,
          "metadata": {},
          "output_type": "execute_result"
        }
      ],
      "source": [
        "data['Top 200'].head()"
      ]
    },
    {
      "cell_type": "markdown",
      "metadata": {
        "id": "hLBoieyviE-m"
      },
      "source": [
        "We can also select multiple columns, returning a new dataframe"
      ]
    },
    {
      "cell_type": "code",
      "execution_count": 5,
      "metadata": {
        "id": "HisV3_AziE-m",
        "outputId": "be059e58-d3e8-413f-e657-7f635bf10e0f"
      },
      "outputs": [
        {
          "data": {
            "text/html": [
              "<div>\n",
              "<style scoped>\n",
              "    .dataframe tbody tr th:only-of-type {\n",
              "        vertical-align: middle;\n",
              "    }\n",
              "\n",
              "    .dataframe tbody tr th {\n",
              "        vertical-align: top;\n",
              "    }\n",
              "\n",
              "    .dataframe thead th {\n",
              "        text-align: right;\n",
              "    }\n",
              "</style>\n",
              "<table border=\"1\" class=\"dataframe\">\n",
              "  <thead>\n",
              "    <tr style=\"text-align: right;\">\n",
              "      <th></th>\n",
              "      <th>Title</th>\n",
              "      <th>Top 200</th>\n",
              "    </tr>\n",
              "  </thead>\n",
              "  <tbody>\n",
              "    <tr>\n",
              "      <th>0</th>\n",
              "      <td>Learning about a New Technology: Pineapple in ...</td>\n",
              "      <td>108.0</td>\n",
              "    </tr>\n",
              "    <tr>\n",
              "      <th>1</th>\n",
              "      <td>Multiple-Product Firms and Product Switching</td>\n",
              "      <td>74.0</td>\n",
              "    </tr>\n",
              "    <tr>\n",
              "      <th>2</th>\n",
              "      <td>Momma's Got the Pill\": How Anthony Comstock an...</td>\n",
              "      <td>15.0</td>\n",
              "    </tr>\n",
              "    <tr>\n",
              "      <th>3</th>\n",
              "      <td>Matching and Sorting in Online Dating</td>\n",
              "      <td>23.0</td>\n",
              "    </tr>\n",
              "    <tr>\n",
              "      <th>4</th>\n",
              "      <td>Entry, Exit, and Investment-Specific Technical...</td>\n",
              "      <td>9.0</td>\n",
              "    </tr>\n",
              "  </tbody>\n",
              "</table>\n",
              "</div>"
            ],
            "text/plain": [
              "                                               Title  Top 200\n",
              "0  Learning about a New Technology: Pineapple in ...    108.0\n",
              "1       Multiple-Product Firms and Product Switching     74.0\n",
              "2  Momma's Got the Pill\": How Anthony Comstock an...     15.0\n",
              "3              Matching and Sorting in Online Dating     23.0\n",
              "4  Entry, Exit, and Investment-Specific Technical...      9.0"
            ]
          },
          "execution_count": 5,
          "metadata": {},
          "output_type": "execute_result"
        }
      ],
      "source": [
        "data[['Title', 'Top 200']].head()"
      ]
    },
    {
      "cell_type": "markdown",
      "metadata": {
        "id": "kvHfFgSxiE-m"
      },
      "source": [
        "We can add a new column to our dataframe like so"
      ]
    },
    {
      "cell_type": "code",
      "execution_count": 6,
      "metadata": {
        "id": "BtwtOMMsiE-n",
        "outputId": "86817a80-d35e-4e61-ec0f-6b4a967bbd50"
      },
      "outputs": [
        {
          "data": {
            "text/html": [
              "<div>\n",
              "<style scoped>\n",
              "    .dataframe tbody tr th:only-of-type {\n",
              "        vertical-align: middle;\n",
              "    }\n",
              "\n",
              "    .dataframe tbody tr th {\n",
              "        vertical-align: top;\n",
              "    }\n",
              "\n",
              "    .dataframe thead th {\n",
              "        text-align: right;\n",
              "    }\n",
              "</style>\n",
              "<table border=\"1\" class=\"dataframe\">\n",
              "  <thead>\n",
              "    <tr style=\"text-align: right;\">\n",
              "      <th></th>\n",
              "      <th>ID</th>\n",
              "      <th>Title</th>\n",
              "      <th>Web of Science</th>\n",
              "      <th>Top 200</th>\n",
              "      <th>Google Scholar</th>\n",
              "      <th>Field</th>\n",
              "      <th>Replications</th>\n",
              "      <th>Extensions</th>\n",
              "      <th>Both</th>\n",
              "      <th>Total</th>\n",
              "    </tr>\n",
              "  </thead>\n",
              "  <tbody>\n",
              "    <tr>\n",
              "      <th>0</th>\n",
              "      <td>2</td>\n",
              "      <td>Learning about a New Technology: Pineapple in ...</td>\n",
              "      <td>176</td>\n",
              "      <td>108.0</td>\n",
              "      <td>1246</td>\n",
              "      <td>Development</td>\n",
              "      <td>1.0</td>\n",
              "      <td>10.0</td>\n",
              "      <td>11.0</td>\n",
              "      <td>1530.0</td>\n",
              "    </tr>\n",
              "    <tr>\n",
              "      <th>1</th>\n",
              "      <td>3</td>\n",
              "      <td>Multiple-Product Firms and Product Switching</td>\n",
              "      <td>111</td>\n",
              "      <td>74.0</td>\n",
              "      <td>764</td>\n",
              "      <td>Labor/IO</td>\n",
              "      <td>1.0</td>\n",
              "      <td>2.0</td>\n",
              "      <td>3.0</td>\n",
              "      <td>949.0</td>\n",
              "    </tr>\n",
              "    <tr>\n",
              "      <th>2</th>\n",
              "      <td>4</td>\n",
              "      <td>Momma's Got the Pill\": How Anthony Comstock an...</td>\n",
              "      <td>23</td>\n",
              "      <td>15.0</td>\n",
              "      <td>98</td>\n",
              "      <td>Labor/IO</td>\n",
              "      <td>2.0</td>\n",
              "      <td>0.0</td>\n",
              "      <td>2.0</td>\n",
              "      <td>136.0</td>\n",
              "    </tr>\n",
              "    <tr>\n",
              "      <th>3</th>\n",
              "      <td>5</td>\n",
              "      <td>Matching and Sorting in Online Dating</td>\n",
              "      <td>75</td>\n",
              "      <td>23.0</td>\n",
              "      <td>326</td>\n",
              "      <td>Labor/IO</td>\n",
              "      <td>0.0</td>\n",
              "      <td>5.0</td>\n",
              "      <td>5.0</td>\n",
              "      <td>424.0</td>\n",
              "    </tr>\n",
              "    <tr>\n",
              "      <th>4</th>\n",
              "      <td>6</td>\n",
              "      <td>Entry, Exit, and Investment-Specific Technical...</td>\n",
              "      <td>9</td>\n",
              "      <td>9.0</td>\n",
              "      <td>38</td>\n",
              "      <td>Macro/Int/Trade</td>\n",
              "      <td>0.0</td>\n",
              "      <td>0.0</td>\n",
              "      <td>0.0</td>\n",
              "      <td>56.0</td>\n",
              "    </tr>\n",
              "  </tbody>\n",
              "</table>\n",
              "</div>"
            ],
            "text/plain": [
              "   ID                                              Title  Web of Science  \\\n",
              "0   2  Learning about a New Technology: Pineapple in ...             176   \n",
              "1   3       Multiple-Product Firms and Product Switching             111   \n",
              "2   4  Momma's Got the Pill\": How Anthony Comstock an...              23   \n",
              "3   5              Matching and Sorting in Online Dating              75   \n",
              "4   6  Entry, Exit, and Investment-Specific Technical...               9   \n",
              "\n",
              "   Top 200  Google Scholar            Field  Replications  Extensions  Both  \\\n",
              "0    108.0            1246      Development           1.0        10.0  11.0   \n",
              "1     74.0             764         Labor/IO           1.0         2.0   3.0   \n",
              "2     15.0              98         Labor/IO           2.0         0.0   2.0   \n",
              "3     23.0             326         Labor/IO           0.0         5.0   5.0   \n",
              "4      9.0              38  Macro/Int/Trade           0.0         0.0   0.0   \n",
              "\n",
              "    Total  \n",
              "0  1530.0  \n",
              "1   949.0  \n",
              "2   136.0  \n",
              "3   424.0  \n",
              "4    56.0  "
            ]
          },
          "execution_count": 6,
          "metadata": {},
          "output_type": "execute_result"
        }
      ],
      "source": [
        "data['Total'] = data['Web of Science'] + data['Top 200'] + data['Google Scholar']\n",
        "data.head()"
      ]
    },
    {
      "cell_type": "markdown",
      "metadata": {
        "id": "e6Avc_wmiE-n"
      },
      "source": [
        "**Q2 Calculate mean of each column in a dataset(5 points)**"
      ]
    },
    {
      "cell_type": "code",
      "execution_count": 7,
      "metadata": {
        "id": "pPMn3r-CiE-n"
      },
      "outputs": [
        {
          "name": "stdout",
          "output_type": "stream",
          "text": [
            "ID                 52.485714\n",
            "Web of Science     42.071429\n",
            "Top 200            22.257143\n",
            "Google Scholar    227.571429\n",
            "Replications        0.742857\n",
            "Extensions          1.728571\n",
            "Both                2.471429\n",
            "Total             291.900000\n",
            "dtype: float64\n"
          ]
        }
      ],
      "source": [
        "import pandas as pd\n",
        "\n",
        "# Select only numeric columns\n",
        "numeric_data = data.select_dtypes(include=['number'])\n",
        "\n",
        "# Calculate the mean of each numeric column\n",
        "means = numeric_data.mean()\n",
        "\n",
        "# Print the means\n",
        "print(means)\n"
      ]
    },
    {
      "cell_type": "markdown",
      "metadata": {
        "id": "rpGXfVkqiE-n"
      },
      "source": [
        "`.describe()` returns useful summary statistics"
      ]
    },
    {
      "cell_type": "code",
      "execution_count": 8,
      "metadata": {
        "id": "_-pAcLJxiE-o",
        "outputId": "2cc5d422-92d0-401b-f11c-7c687e216b0a"
      },
      "outputs": [
        {
          "data": {
            "text/html": [
              "<div>\n",
              "<style scoped>\n",
              "    .dataframe tbody tr th:only-of-type {\n",
              "        vertical-align: middle;\n",
              "    }\n",
              "\n",
              "    .dataframe tbody tr th {\n",
              "        vertical-align: top;\n",
              "    }\n",
              "\n",
              "    .dataframe thead th {\n",
              "        text-align: right;\n",
              "    }\n",
              "</style>\n",
              "<table border=\"1\" class=\"dataframe\">\n",
              "  <thead>\n",
              "    <tr style=\"text-align: right;\">\n",
              "      <th></th>\n",
              "      <th>ID</th>\n",
              "      <th>Web of Science</th>\n",
              "      <th>Top 200</th>\n",
              "      <th>Google Scholar</th>\n",
              "      <th>Replications</th>\n",
              "      <th>Extensions</th>\n",
              "      <th>Both</th>\n",
              "      <th>Total</th>\n",
              "    </tr>\n",
              "  </thead>\n",
              "  <tbody>\n",
              "    <tr>\n",
              "      <th>count</th>\n",
              "      <td>70.000000</td>\n",
              "      <td>70.000000</td>\n",
              "      <td>70.000000</td>\n",
              "      <td>70.000000</td>\n",
              "      <td>70.000000</td>\n",
              "      <td>70.000000</td>\n",
              "      <td>70.000000</td>\n",
              "      <td>70.000000</td>\n",
              "    </tr>\n",
              "    <tr>\n",
              "      <th>mean</th>\n",
              "      <td>52.485714</td>\n",
              "      <td>42.071429</td>\n",
              "      <td>22.257143</td>\n",
              "      <td>227.571429</td>\n",
              "      <td>0.742857</td>\n",
              "      <td>1.728571</td>\n",
              "      <td>2.471429</td>\n",
              "      <td>291.900000</td>\n",
              "    </tr>\n",
              "    <tr>\n",
              "      <th>std</th>\n",
              "      <td>31.465068</td>\n",
              "      <td>43.070660</td>\n",
              "      <td>23.182131</td>\n",
              "      <td>257.258375</td>\n",
              "      <td>1.741944</td>\n",
              "      <td>2.868729</td>\n",
              "      <td>3.794433</td>\n",
              "      <td>319.403935</td>\n",
              "    </tr>\n",
              "    <tr>\n",
              "      <th>min</th>\n",
              "      <td>2.000000</td>\n",
              "      <td>1.000000</td>\n",
              "      <td>0.000000</td>\n",
              "      <td>7.000000</td>\n",
              "      <td>0.000000</td>\n",
              "      <td>0.000000</td>\n",
              "      <td>0.000000</td>\n",
              "      <td>8.000000</td>\n",
              "    </tr>\n",
              "    <tr>\n",
              "      <th>25%</th>\n",
              "      <td>23.250000</td>\n",
              "      <td>17.250000</td>\n",
              "      <td>9.000000</td>\n",
              "      <td>73.250000</td>\n",
              "      <td>0.000000</td>\n",
              "      <td>0.000000</td>\n",
              "      <td>0.000000</td>\n",
              "      <td>101.000000</td>\n",
              "    </tr>\n",
              "    <tr>\n",
              "      <th>50%</th>\n",
              "      <td>48.500000</td>\n",
              "      <td>28.500000</td>\n",
              "      <td>15.000000</td>\n",
              "      <td>139.000000</td>\n",
              "      <td>0.000000</td>\n",
              "      <td>0.000000</td>\n",
              "      <td>1.000000</td>\n",
              "      <td>178.000000</td>\n",
              "    </tr>\n",
              "    <tr>\n",
              "      <th>75%</th>\n",
              "      <td>81.750000</td>\n",
              "      <td>51.000000</td>\n",
              "      <td>23.750000</td>\n",
              "      <td>267.250000</td>\n",
              "      <td>1.000000</td>\n",
              "      <td>2.750000</td>\n",
              "      <td>3.750000</td>\n",
              "      <td>330.750000</td>\n",
              "    </tr>\n",
              "    <tr>\n",
              "      <th>max</th>\n",
              "      <td>104.000000</td>\n",
              "      <td>195.000000</td>\n",
              "      <td>108.000000</td>\n",
              "      <td>1246.000000</td>\n",
              "      <td>9.000000</td>\n",
              "      <td>16.000000</td>\n",
              "      <td>18.000000</td>\n",
              "      <td>1530.000000</td>\n",
              "    </tr>\n",
              "  </tbody>\n",
              "</table>\n",
              "</div>"
            ],
            "text/plain": [
              "               ID  Web of Science     Top 200  Google Scholar  Replications  \\\n",
              "count   70.000000       70.000000   70.000000       70.000000     70.000000   \n",
              "mean    52.485714       42.071429   22.257143      227.571429      0.742857   \n",
              "std     31.465068       43.070660   23.182131      257.258375      1.741944   \n",
              "min      2.000000        1.000000    0.000000        7.000000      0.000000   \n",
              "25%     23.250000       17.250000    9.000000       73.250000      0.000000   \n",
              "50%     48.500000       28.500000   15.000000      139.000000      0.000000   \n",
              "75%     81.750000       51.000000   23.750000      267.250000      1.000000   \n",
              "max    104.000000      195.000000  108.000000     1246.000000      9.000000   \n",
              "\n",
              "       Extensions       Both        Total  \n",
              "count   70.000000  70.000000    70.000000  \n",
              "mean     1.728571   2.471429   291.900000  \n",
              "std      2.868729   3.794433   319.403935  \n",
              "min      0.000000   0.000000     8.000000  \n",
              "25%      0.000000   0.000000   101.000000  \n",
              "50%      0.000000   1.000000   178.000000  \n",
              "75%      2.750000   3.750000   330.750000  \n",
              "max     16.000000  18.000000  1530.000000  "
            ]
          },
          "execution_count": 8,
          "metadata": {},
          "output_type": "execute_result"
        }
      ],
      "source": [
        "data.describe()"
      ]
    },
    {
      "cell_type": "markdown",
      "metadata": {
        "id": "HDJ62UlYiE-o"
      },
      "source": [
        "**Q3. Find the means of Top 200 and Google Scholar citations(10 points)**"
      ]
    },
    {
      "cell_type": "markdown",
      "metadata": {
        "id": "7iXMKsgciE-p"
      },
      "source": [
        "**Q4. Create a table of summary statistics of Top 200 citations and Google Scholar citations(10 points)**"
      ]
    },
    {
      "cell_type": "markdown",
      "metadata": {
        "id": "EFu2M-M-iE-p"
      },
      "source": [
        "#### Create a table of summary statistics of the paper's fields (according to the variable `Field`)"
      ]
    },
    {
      "cell_type": "code",
      "execution_count": 9,
      "metadata": {
        "colab": {
          "base_uri": "https://localhost:8080/"
        },
        "collapsed": true,
        "id": "xOBJKZlgiE-p",
        "outputId": "e7270b01-80c0-4438-b328-cc436589a5f8"
      },
      "outputs": [
        {
          "data": {
            "text/plain": [
              "count                  70\n",
              "unique                  5\n",
              "top       Macro/Int/Trade\n",
              "freq                   25\n",
              "Name: Field, dtype: object"
            ]
          },
          "execution_count": 9,
          "metadata": {},
          "output_type": "execute_result"
        }
      ],
      "source": [
        "data['Field'].describe()"
      ]
    },
    {
      "cell_type": "markdown",
      "metadata": {
        "id": "cVtj9iysiE-q"
      },
      "source": [
        "## Selecting and filtering"
      ]
    },
    {
      "cell_type": "markdown",
      "metadata": {
        "id": "Dzd24DhTiE-q"
      },
      "source": [
        "We can use integer slicing to select rows as follows"
      ]
    },
    {
      "cell_type": "code",
      "execution_count": 10,
      "metadata": {
        "id": "2V9umx5xiE-q",
        "outputId": "de6eb4ab-47e0-4675-e00f-ab1689495f09"
      },
      "outputs": [
        {
          "data": {
            "text/html": [
              "<div>\n",
              "<style scoped>\n",
              "    .dataframe tbody tr th:only-of-type {\n",
              "        vertical-align: middle;\n",
              "    }\n",
              "\n",
              "    .dataframe tbody tr th {\n",
              "        vertical-align: top;\n",
              "    }\n",
              "\n",
              "    .dataframe thead th {\n",
              "        text-align: right;\n",
              "    }\n",
              "</style>\n",
              "<table border=\"1\" class=\"dataframe\">\n",
              "  <thead>\n",
              "    <tr style=\"text-align: right;\">\n",
              "      <th></th>\n",
              "      <th>ID</th>\n",
              "      <th>Title</th>\n",
              "      <th>Web of Science</th>\n",
              "      <th>Top 200</th>\n",
              "      <th>Google Scholar</th>\n",
              "      <th>Field</th>\n",
              "      <th>Replications</th>\n",
              "      <th>Extensions</th>\n",
              "      <th>Both</th>\n",
              "      <th>Total</th>\n",
              "    </tr>\n",
              "  </thead>\n",
              "  <tbody>\n",
              "    <tr>\n",
              "      <th>0</th>\n",
              "      <td>2</td>\n",
              "      <td>Learning about a New Technology: Pineapple in ...</td>\n",
              "      <td>176</td>\n",
              "      <td>108.0</td>\n",
              "      <td>1246</td>\n",
              "      <td>Development</td>\n",
              "      <td>1.0</td>\n",
              "      <td>10.0</td>\n",
              "      <td>11.0</td>\n",
              "      <td>1530.0</td>\n",
              "    </tr>\n",
              "    <tr>\n",
              "      <th>1</th>\n",
              "      <td>3</td>\n",
              "      <td>Multiple-Product Firms and Product Switching</td>\n",
              "      <td>111</td>\n",
              "      <td>74.0</td>\n",
              "      <td>764</td>\n",
              "      <td>Labor/IO</td>\n",
              "      <td>1.0</td>\n",
              "      <td>2.0</td>\n",
              "      <td>3.0</td>\n",
              "      <td>949.0</td>\n",
              "    </tr>\n",
              "    <tr>\n",
              "      <th>2</th>\n",
              "      <td>4</td>\n",
              "      <td>Momma's Got the Pill\": How Anthony Comstock an...</td>\n",
              "      <td>23</td>\n",
              "      <td>15.0</td>\n",
              "      <td>98</td>\n",
              "      <td>Labor/IO</td>\n",
              "      <td>2.0</td>\n",
              "      <td>0.0</td>\n",
              "      <td>2.0</td>\n",
              "      <td>136.0</td>\n",
              "    </tr>\n",
              "    <tr>\n",
              "      <th>3</th>\n",
              "      <td>5</td>\n",
              "      <td>Matching and Sorting in Online Dating</td>\n",
              "      <td>75</td>\n",
              "      <td>23.0</td>\n",
              "      <td>326</td>\n",
              "      <td>Labor/IO</td>\n",
              "      <td>0.0</td>\n",
              "      <td>5.0</td>\n",
              "      <td>5.0</td>\n",
              "      <td>424.0</td>\n",
              "    </tr>\n",
              "    <tr>\n",
              "      <th>4</th>\n",
              "      <td>6</td>\n",
              "      <td>Entry, Exit, and Investment-Specific Technical...</td>\n",
              "      <td>9</td>\n",
              "      <td>9.0</td>\n",
              "      <td>38</td>\n",
              "      <td>Macro/Int/Trade</td>\n",
              "      <td>0.0</td>\n",
              "      <td>0.0</td>\n",
              "      <td>0.0</td>\n",
              "      <td>56.0</td>\n",
              "    </tr>\n",
              "  </tbody>\n",
              "</table>\n",
              "</div>"
            ],
            "text/plain": [
              "   ID                                              Title  Web of Science  \\\n",
              "0   2  Learning about a New Technology: Pineapple in ...             176   \n",
              "1   3       Multiple-Product Firms and Product Switching             111   \n",
              "2   4  Momma's Got the Pill\": How Anthony Comstock an...              23   \n",
              "3   5              Matching and Sorting in Online Dating              75   \n",
              "4   6  Entry, Exit, and Investment-Specific Technical...               9   \n",
              "\n",
              "   Top 200  Google Scholar            Field  Replications  Extensions  Both  \\\n",
              "0    108.0            1246      Development           1.0        10.0  11.0   \n",
              "1     74.0             764         Labor/IO           1.0         2.0   3.0   \n",
              "2     15.0              98         Labor/IO           2.0         0.0   2.0   \n",
              "3     23.0             326         Labor/IO           0.0         5.0   5.0   \n",
              "4      9.0              38  Macro/Int/Trade           0.0         0.0   0.0   \n",
              "\n",
              "    Total  \n",
              "0  1530.0  \n",
              "1   949.0  \n",
              "2   136.0  \n",
              "3   424.0  \n",
              "4    56.0  "
            ]
          },
          "execution_count": 10,
          "metadata": {},
          "output_type": "execute_result"
        }
      ],
      "source": [
        "data[:5]"
      ]
    },
    {
      "cell_type": "markdown",
      "metadata": {
        "id": "Hg_zAhkkiE-q"
      },
      "source": [
        "We might want to find the top cited papers\n",
        "\n",
        "First we will sort our values by a column in the dataframe"
      ]
    },
    {
      "cell_type": "code",
      "execution_count": 11,
      "metadata": {
        "colab": {
          "base_uri": "https://localhost:8080/",
          "height": 206
        },
        "id": "GgGrn680iE-q",
        "outputId": "4f00f772-ae0c-4d28-f9da-6a348928a087"
      },
      "outputs": [
        {
          "data": {
            "text/html": [
              "<div>\n",
              "<style scoped>\n",
              "    .dataframe tbody tr th:only-of-type {\n",
              "        vertical-align: middle;\n",
              "    }\n",
              "\n",
              "    .dataframe tbody tr th {\n",
              "        vertical-align: top;\n",
              "    }\n",
              "\n",
              "    .dataframe thead th {\n",
              "        text-align: right;\n",
              "    }\n",
              "</style>\n",
              "<table border=\"1\" class=\"dataframe\">\n",
              "  <thead>\n",
              "    <tr style=\"text-align: right;\">\n",
              "      <th></th>\n",
              "      <th>Title</th>\n",
              "      <th>Google Scholar</th>\n",
              "    </tr>\n",
              "  </thead>\n",
              "  <tbody>\n",
              "    <tr>\n",
              "      <th>0</th>\n",
              "      <td>Learning about a New Technology: Pineapple in Ghana</td>\n",
              "      <td>1246</td>\n",
              "    </tr>\n",
              "    <tr>\n",
              "      <th>21</th>\n",
              "      <td>The Macroeconomic Effects of Tax Changes: Estimates Based on a New Measure of Fiscal Shocks</td>\n",
              "      <td>1245</td>\n",
              "    </tr>\n",
              "    <tr>\n",
              "      <th>33</th>\n",
              "      <td>What Causes Industry Agglomeration? Evidence from Coagglomeration Patterns</td>\n",
              "      <td>766</td>\n",
              "    </tr>\n",
              "    <tr>\n",
              "      <th>1</th>\n",
              "      <td>Multiple-Product Firms and Product Switching</td>\n",
              "      <td>764</td>\n",
              "    </tr>\n",
              "    <tr>\n",
              "      <th>15</th>\n",
              "      <td>Social Preferences, Beliefs, and the Dynamics of Free Riding in Public Goods Experiments</td>\n",
              "      <td>736</td>\n",
              "    </tr>\n",
              "  </tbody>\n",
              "</table>\n",
              "</div>"
            ],
            "text/plain": [
              "                                                                                          Title  \\\n",
              "0                                           Learning about a New Technology: Pineapple in Ghana   \n",
              "21  The Macroeconomic Effects of Tax Changes: Estimates Based on a New Measure of Fiscal Shocks   \n",
              "33                   What Causes Industry Agglomeration? Evidence from Coagglomeration Patterns   \n",
              "1                                                  Multiple-Product Firms and Product Switching   \n",
              "15     Social Preferences, Beliefs, and the Dynamics of Free Riding in Public Goods Experiments   \n",
              "\n",
              "    Google Scholar  \n",
              "0             1246  \n",
              "21            1245  \n",
              "33             766  \n",
              "1              764  \n",
              "15             736  "
            ]
          },
          "execution_count": 11,
          "metadata": {},
          "output_type": "execute_result"
        }
      ],
      "source": [
        "pd.set_option('max_colwidth', 100)  # adjust column width\n",
        "\n",
        "data[['Title', 'Google Scholar']].sort_values(by='Google Scholar', ascending=False)[:5]"
      ]
    },
    {
      "cell_type": "markdown",
      "metadata": {
        "id": "n7lBKmWSiE-q"
      },
      "source": [
        "Another way to select rows is to use row labels, ie. set a row index\n",
        "\n",
        "Similar to the column labels, we can add row labels (the index)"
      ]
    },
    {
      "cell_type": "code",
      "execution_count": 12,
      "metadata": {
        "id": "gXQzOv_ZiE-r",
        "outputId": "b1646451-14fd-4fcb-e500-7175097438ac"
      },
      "outputs": [
        {
          "data": {
            "text/html": [
              "<div>\n",
              "<style scoped>\n",
              "    .dataframe tbody tr th:only-of-type {\n",
              "        vertical-align: middle;\n",
              "    }\n",
              "\n",
              "    .dataframe tbody tr th {\n",
              "        vertical-align: top;\n",
              "    }\n",
              "\n",
              "    .dataframe thead th {\n",
              "        text-align: right;\n",
              "    }\n",
              "</style>\n",
              "<table border=\"1\" class=\"dataframe\">\n",
              "  <thead>\n",
              "    <tr style=\"text-align: right;\">\n",
              "      <th></th>\n",
              "      <th>ID</th>\n",
              "      <th>Web of Science</th>\n",
              "      <th>Top 200</th>\n",
              "      <th>Google Scholar</th>\n",
              "      <th>Field</th>\n",
              "      <th>Replications</th>\n",
              "      <th>Extensions</th>\n",
              "      <th>Both</th>\n",
              "      <th>Total</th>\n",
              "    </tr>\n",
              "    <tr>\n",
              "      <th>Title</th>\n",
              "      <th></th>\n",
              "      <th></th>\n",
              "      <th></th>\n",
              "      <th></th>\n",
              "      <th></th>\n",
              "      <th></th>\n",
              "      <th></th>\n",
              "      <th></th>\n",
              "      <th></th>\n",
              "    </tr>\n",
              "  </thead>\n",
              "  <tbody>\n",
              "    <tr>\n",
              "      <th>Learning about a New Technology: Pineapple in Ghana</th>\n",
              "      <td>2</td>\n",
              "      <td>176</td>\n",
              "      <td>108.0</td>\n",
              "      <td>1246</td>\n",
              "      <td>Development</td>\n",
              "      <td>1.0</td>\n",
              "      <td>10.0</td>\n",
              "      <td>11.0</td>\n",
              "      <td>1530.0</td>\n",
              "    </tr>\n",
              "    <tr>\n",
              "      <th>Multiple-Product Firms and Product Switching</th>\n",
              "      <td>3</td>\n",
              "      <td>111</td>\n",
              "      <td>74.0</td>\n",
              "      <td>764</td>\n",
              "      <td>Labor/IO</td>\n",
              "      <td>1.0</td>\n",
              "      <td>2.0</td>\n",
              "      <td>3.0</td>\n",
              "      <td>949.0</td>\n",
              "    </tr>\n",
              "    <tr>\n",
              "      <th>Momma's Got the Pill\": How Anthony Comstock and Griswold v. Connecticut Shaped US Childbearing</th>\n",
              "      <td>4</td>\n",
              "      <td>23</td>\n",
              "      <td>15.0</td>\n",
              "      <td>98</td>\n",
              "      <td>Labor/IO</td>\n",
              "      <td>2.0</td>\n",
              "      <td>0.0</td>\n",
              "      <td>2.0</td>\n",
              "      <td>136.0</td>\n",
              "    </tr>\n",
              "    <tr>\n",
              "      <th>Matching and Sorting in Online Dating</th>\n",
              "      <td>5</td>\n",
              "      <td>75</td>\n",
              "      <td>23.0</td>\n",
              "      <td>326</td>\n",
              "      <td>Labor/IO</td>\n",
              "      <td>0.0</td>\n",
              "      <td>5.0</td>\n",
              "      <td>5.0</td>\n",
              "      <td>424.0</td>\n",
              "    </tr>\n",
              "    <tr>\n",
              "      <th>Entry, Exit, and Investment-Specific Technical Change</th>\n",
              "      <td>6</td>\n",
              "      <td>9</td>\n",
              "      <td>9.0</td>\n",
              "      <td>38</td>\n",
              "      <td>Macro/Int/Trade</td>\n",
              "      <td>0.0</td>\n",
              "      <td>0.0</td>\n",
              "      <td>0.0</td>\n",
              "      <td>56.0</td>\n",
              "    </tr>\n",
              "  </tbody>\n",
              "</table>\n",
              "</div>"
            ],
            "text/plain": [
              "                                                                                                ID  \\\n",
              "Title                                                                                                \n",
              "Learning about a New Technology: Pineapple in Ghana                                              2   \n",
              "Multiple-Product Firms and Product Switching                                                     3   \n",
              "Momma's Got the Pill\": How Anthony Comstock and Griswold v. Connecticut Shaped US Childbearing   4   \n",
              "Matching and Sorting in Online Dating                                                            5   \n",
              "Entry, Exit, and Investment-Specific Technical Change                                            6   \n",
              "\n",
              "                                                                                                Web of Science  \\\n",
              "Title                                                                                                            \n",
              "Learning about a New Technology: Pineapple in Ghana                                                        176   \n",
              "Multiple-Product Firms and Product Switching                                                               111   \n",
              "Momma's Got the Pill\": How Anthony Comstock and Griswold v. Connecticut Shaped US Childbearing              23   \n",
              "Matching and Sorting in Online Dating                                                                       75   \n",
              "Entry, Exit, and Investment-Specific Technical Change                                                        9   \n",
              "\n",
              "                                                                                                Top 200  \\\n",
              "Title                                                                                                     \n",
              "Learning about a New Technology: Pineapple in Ghana                                               108.0   \n",
              "Multiple-Product Firms and Product Switching                                                       74.0   \n",
              "Momma's Got the Pill\": How Anthony Comstock and Griswold v. Connecticut Shaped US Childbearing     15.0   \n",
              "Matching and Sorting in Online Dating                                                              23.0   \n",
              "Entry, Exit, and Investment-Specific Technical Change                                               9.0   \n",
              "\n",
              "                                                                                                Google Scholar  \\\n",
              "Title                                                                                                            \n",
              "Learning about a New Technology: Pineapple in Ghana                                                       1246   \n",
              "Multiple-Product Firms and Product Switching                                                               764   \n",
              "Momma's Got the Pill\": How Anthony Comstock and Griswold v. Connecticut Shaped US Childbearing              98   \n",
              "Matching and Sorting in Online Dating                                                                      326   \n",
              "Entry, Exit, and Investment-Specific Technical Change                                                       38   \n",
              "\n",
              "                                                                                                          Field  \\\n",
              "Title                                                                                                             \n",
              "Learning about a New Technology: Pineapple in Ghana                                                 Development   \n",
              "Multiple-Product Firms and Product Switching                                                           Labor/IO   \n",
              "Momma's Got the Pill\": How Anthony Comstock and Griswold v. Connecticut Shaped US Childbearing         Labor/IO   \n",
              "Matching and Sorting in Online Dating                                                                  Labor/IO   \n",
              "Entry, Exit, and Investment-Specific Technical Change                                           Macro/Int/Trade   \n",
              "\n",
              "                                                                                                Replications  \\\n",
              "Title                                                                                                          \n",
              "Learning about a New Technology: Pineapple in Ghana                                                      1.0   \n",
              "Multiple-Product Firms and Product Switching                                                             1.0   \n",
              "Momma's Got the Pill\": How Anthony Comstock and Griswold v. Connecticut Shaped US Childbearing           2.0   \n",
              "Matching and Sorting in Online Dating                                                                    0.0   \n",
              "Entry, Exit, and Investment-Specific Technical Change                                                    0.0   \n",
              "\n",
              "                                                                                                Extensions  \\\n",
              "Title                                                                                                        \n",
              "Learning about a New Technology: Pineapple in Ghana                                                   10.0   \n",
              "Multiple-Product Firms and Product Switching                                                           2.0   \n",
              "Momma's Got the Pill\": How Anthony Comstock and Griswold v. Connecticut Shaped US Childbearing         0.0   \n",
              "Matching and Sorting in Online Dating                                                                  5.0   \n",
              "Entry, Exit, and Investment-Specific Technical Change                                                  0.0   \n",
              "\n",
              "                                                                                                Both  \\\n",
              "Title                                                                                                  \n",
              "Learning about a New Technology: Pineapple in Ghana                                             11.0   \n",
              "Multiple-Product Firms and Product Switching                                                     3.0   \n",
              "Momma's Got the Pill\": How Anthony Comstock and Griswold v. Connecticut Shaped US Childbearing   2.0   \n",
              "Matching and Sorting in Online Dating                                                            5.0   \n",
              "Entry, Exit, and Investment-Specific Technical Change                                            0.0   \n",
              "\n",
              "                                                                                                 Total  \n",
              "Title                                                                                                   \n",
              "Learning about a New Technology: Pineapple in Ghana                                             1530.0  \n",
              "Multiple-Product Firms and Product Switching                                                     949.0  \n",
              "Momma's Got the Pill\": How Anthony Comstock and Griswold v. Connecticut Shaped US Childbearing   136.0  \n",
              "Matching and Sorting in Online Dating                                                            424.0  \n",
              "Entry, Exit, and Investment-Specific Technical Change                                             56.0  "
            ]
          },
          "execution_count": 12,
          "metadata": {},
          "output_type": "execute_result"
        }
      ],
      "source": [
        "data.set_index('Title').head()"
      ]
    },
    {
      "cell_type": "markdown",
      "metadata": {
        "id": "GMxlma9riE-r"
      },
      "source": [
        "Note: we haven't actually changed `data`"
      ]
    },
    {
      "cell_type": "code",
      "execution_count": 13,
      "metadata": {
        "id": "baCbx_oAiE-r",
        "outputId": "551b4ecc-9655-4b3d-9be5-0f9244a210af"
      },
      "outputs": [
        {
          "data": {
            "text/html": [
              "<div>\n",
              "<style scoped>\n",
              "    .dataframe tbody tr th:only-of-type {\n",
              "        vertical-align: middle;\n",
              "    }\n",
              "\n",
              "    .dataframe tbody tr th {\n",
              "        vertical-align: top;\n",
              "    }\n",
              "\n",
              "    .dataframe thead th {\n",
              "        text-align: right;\n",
              "    }\n",
              "</style>\n",
              "<table border=\"1\" class=\"dataframe\">\n",
              "  <thead>\n",
              "    <tr style=\"text-align: right;\">\n",
              "      <th></th>\n",
              "      <th>ID</th>\n",
              "      <th>Title</th>\n",
              "      <th>Web of Science</th>\n",
              "      <th>Top 200</th>\n",
              "      <th>Google Scholar</th>\n",
              "      <th>Field</th>\n",
              "      <th>Replications</th>\n",
              "      <th>Extensions</th>\n",
              "      <th>Both</th>\n",
              "      <th>Total</th>\n",
              "    </tr>\n",
              "  </thead>\n",
              "  <tbody>\n",
              "    <tr>\n",
              "      <th>0</th>\n",
              "      <td>2</td>\n",
              "      <td>Learning about a New Technology: Pineapple in Ghana</td>\n",
              "      <td>176</td>\n",
              "      <td>108.0</td>\n",
              "      <td>1246</td>\n",
              "      <td>Development</td>\n",
              "      <td>1.0</td>\n",
              "      <td>10.0</td>\n",
              "      <td>11.0</td>\n",
              "      <td>1530.0</td>\n",
              "    </tr>\n",
              "    <tr>\n",
              "      <th>1</th>\n",
              "      <td>3</td>\n",
              "      <td>Multiple-Product Firms and Product Switching</td>\n",
              "      <td>111</td>\n",
              "      <td>74.0</td>\n",
              "      <td>764</td>\n",
              "      <td>Labor/IO</td>\n",
              "      <td>1.0</td>\n",
              "      <td>2.0</td>\n",
              "      <td>3.0</td>\n",
              "      <td>949.0</td>\n",
              "    </tr>\n",
              "    <tr>\n",
              "      <th>2</th>\n",
              "      <td>4</td>\n",
              "      <td>Momma's Got the Pill\": How Anthony Comstock and Griswold v. Connecticut Shaped US Childbearing</td>\n",
              "      <td>23</td>\n",
              "      <td>15.0</td>\n",
              "      <td>98</td>\n",
              "      <td>Labor/IO</td>\n",
              "      <td>2.0</td>\n",
              "      <td>0.0</td>\n",
              "      <td>2.0</td>\n",
              "      <td>136.0</td>\n",
              "    </tr>\n",
              "    <tr>\n",
              "      <th>3</th>\n",
              "      <td>5</td>\n",
              "      <td>Matching and Sorting in Online Dating</td>\n",
              "      <td>75</td>\n",
              "      <td>23.0</td>\n",
              "      <td>326</td>\n",
              "      <td>Labor/IO</td>\n",
              "      <td>0.0</td>\n",
              "      <td>5.0</td>\n",
              "      <td>5.0</td>\n",
              "      <td>424.0</td>\n",
              "    </tr>\n",
              "    <tr>\n",
              "      <th>4</th>\n",
              "      <td>6</td>\n",
              "      <td>Entry, Exit, and Investment-Specific Technical Change</td>\n",
              "      <td>9</td>\n",
              "      <td>9.0</td>\n",
              "      <td>38</td>\n",
              "      <td>Macro/Int/Trade</td>\n",
              "      <td>0.0</td>\n",
              "      <td>0.0</td>\n",
              "      <td>0.0</td>\n",
              "      <td>56.0</td>\n",
              "    </tr>\n",
              "  </tbody>\n",
              "</table>\n",
              "</div>"
            ],
            "text/plain": [
              "   ID  \\\n",
              "0   2   \n",
              "1   3   \n",
              "2   4   \n",
              "3   5   \n",
              "4   6   \n",
              "\n",
              "                                                                                            Title  \\\n",
              "0                                             Learning about a New Technology: Pineapple in Ghana   \n",
              "1                                                    Multiple-Product Firms and Product Switching   \n",
              "2  Momma's Got the Pill\": How Anthony Comstock and Griswold v. Connecticut Shaped US Childbearing   \n",
              "3                                                           Matching and Sorting in Online Dating   \n",
              "4                                           Entry, Exit, and Investment-Specific Technical Change   \n",
              "\n",
              "   Web of Science  Top 200  Google Scholar            Field  Replications  \\\n",
              "0             176    108.0            1246      Development           1.0   \n",
              "1             111     74.0             764         Labor/IO           1.0   \n",
              "2              23     15.0              98         Labor/IO           2.0   \n",
              "3              75     23.0             326         Labor/IO           0.0   \n",
              "4               9      9.0              38  Macro/Int/Trade           0.0   \n",
              "\n",
              "   Extensions  Both   Total  \n",
              "0        10.0  11.0  1530.0  \n",
              "1         2.0   3.0   949.0  \n",
              "2         0.0   2.0   136.0  \n",
              "3         5.0   5.0   424.0  \n",
              "4         0.0   0.0    56.0  "
            ]
          },
          "execution_count": 13,
          "metadata": {},
          "output_type": "execute_result"
        }
      ],
      "source": [
        "data.head()"
      ]
    },
    {
      "cell_type": "markdown",
      "metadata": {
        "id": "_xFSH5J5iE-r"
      },
      "source": [
        "We need to reassign the variable name `data` to the new copy"
      ]
    },
    {
      "cell_type": "code",
      "execution_count": 14,
      "metadata": {
        "colab": {
          "base_uri": "https://localhost:8080/",
          "height": 238
        },
        "id": "2Hb4un11iE-r",
        "outputId": "edb7277e-c826-4e60-9d9d-62f88d2c93f8"
      },
      "outputs": [
        {
          "data": {
            "text/html": [
              "<div>\n",
              "<style scoped>\n",
              "    .dataframe tbody tr th:only-of-type {\n",
              "        vertical-align: middle;\n",
              "    }\n",
              "\n",
              "    .dataframe tbody tr th {\n",
              "        vertical-align: top;\n",
              "    }\n",
              "\n",
              "    .dataframe thead th {\n",
              "        text-align: right;\n",
              "    }\n",
              "</style>\n",
              "<table border=\"1\" class=\"dataframe\">\n",
              "  <thead>\n",
              "    <tr style=\"text-align: right;\">\n",
              "      <th></th>\n",
              "      <th>ID</th>\n",
              "      <th>Web of Science</th>\n",
              "      <th>Top 200</th>\n",
              "      <th>Google Scholar</th>\n",
              "      <th>Field</th>\n",
              "      <th>Replications</th>\n",
              "      <th>Extensions</th>\n",
              "      <th>Both</th>\n",
              "      <th>Total</th>\n",
              "    </tr>\n",
              "    <tr>\n",
              "      <th>Title</th>\n",
              "      <th></th>\n",
              "      <th></th>\n",
              "      <th></th>\n",
              "      <th></th>\n",
              "      <th></th>\n",
              "      <th></th>\n",
              "      <th></th>\n",
              "      <th></th>\n",
              "      <th></th>\n",
              "    </tr>\n",
              "  </thead>\n",
              "  <tbody>\n",
              "    <tr>\n",
              "      <th>Learning about a New Technology: Pineapple in Ghana</th>\n",
              "      <td>2</td>\n",
              "      <td>176</td>\n",
              "      <td>108.0</td>\n",
              "      <td>1246</td>\n",
              "      <td>Development</td>\n",
              "      <td>1.0</td>\n",
              "      <td>10.0</td>\n",
              "      <td>11.0</td>\n",
              "      <td>1530.0</td>\n",
              "    </tr>\n",
              "    <tr>\n",
              "      <th>Multiple-Product Firms and Product Switching</th>\n",
              "      <td>3</td>\n",
              "      <td>111</td>\n",
              "      <td>74.0</td>\n",
              "      <td>764</td>\n",
              "      <td>Labor/IO</td>\n",
              "      <td>1.0</td>\n",
              "      <td>2.0</td>\n",
              "      <td>3.0</td>\n",
              "      <td>949.0</td>\n",
              "    </tr>\n",
              "    <tr>\n",
              "      <th>Momma's Got the Pill\": How Anthony Comstock and Griswold v. Connecticut Shaped US Childbearing</th>\n",
              "      <td>4</td>\n",
              "      <td>23</td>\n",
              "      <td>15.0</td>\n",
              "      <td>98</td>\n",
              "      <td>Labor/IO</td>\n",
              "      <td>2.0</td>\n",
              "      <td>0.0</td>\n",
              "      <td>2.0</td>\n",
              "      <td>136.0</td>\n",
              "    </tr>\n",
              "    <tr>\n",
              "      <th>Matching and Sorting in Online Dating</th>\n",
              "      <td>5</td>\n",
              "      <td>75</td>\n",
              "      <td>23.0</td>\n",
              "      <td>326</td>\n",
              "      <td>Labor/IO</td>\n",
              "      <td>0.0</td>\n",
              "      <td>5.0</td>\n",
              "      <td>5.0</td>\n",
              "      <td>424.0</td>\n",
              "    </tr>\n",
              "    <tr>\n",
              "      <th>Entry, Exit, and Investment-Specific Technical Change</th>\n",
              "      <td>6</td>\n",
              "      <td>9</td>\n",
              "      <td>9.0</td>\n",
              "      <td>38</td>\n",
              "      <td>Macro/Int/Trade</td>\n",
              "      <td>0.0</td>\n",
              "      <td>0.0</td>\n",
              "      <td>0.0</td>\n",
              "      <td>56.0</td>\n",
              "    </tr>\n",
              "  </tbody>\n",
              "</table>\n",
              "</div>"
            ],
            "text/plain": [
              "                                                                                                ID  \\\n",
              "Title                                                                                                \n",
              "Learning about a New Technology: Pineapple in Ghana                                              2   \n",
              "Multiple-Product Firms and Product Switching                                                     3   \n",
              "Momma's Got the Pill\": How Anthony Comstock and Griswold v. Connecticut Shaped US Childbearing   4   \n",
              "Matching and Sorting in Online Dating                                                            5   \n",
              "Entry, Exit, and Investment-Specific Technical Change                                            6   \n",
              "\n",
              "                                                                                                Web of Science  \\\n",
              "Title                                                                                                            \n",
              "Learning about a New Technology: Pineapple in Ghana                                                        176   \n",
              "Multiple-Product Firms and Product Switching                                                               111   \n",
              "Momma's Got the Pill\": How Anthony Comstock and Griswold v. Connecticut Shaped US Childbearing              23   \n",
              "Matching and Sorting in Online Dating                                                                       75   \n",
              "Entry, Exit, and Investment-Specific Technical Change                                                        9   \n",
              "\n",
              "                                                                                                Top 200  \\\n",
              "Title                                                                                                     \n",
              "Learning about a New Technology: Pineapple in Ghana                                               108.0   \n",
              "Multiple-Product Firms and Product Switching                                                       74.0   \n",
              "Momma's Got the Pill\": How Anthony Comstock and Griswold v. Connecticut Shaped US Childbearing     15.0   \n",
              "Matching and Sorting in Online Dating                                                              23.0   \n",
              "Entry, Exit, and Investment-Specific Technical Change                                               9.0   \n",
              "\n",
              "                                                                                                Google Scholar  \\\n",
              "Title                                                                                                            \n",
              "Learning about a New Technology: Pineapple in Ghana                                                       1246   \n",
              "Multiple-Product Firms and Product Switching                                                               764   \n",
              "Momma's Got the Pill\": How Anthony Comstock and Griswold v. Connecticut Shaped US Childbearing              98   \n",
              "Matching and Sorting in Online Dating                                                                      326   \n",
              "Entry, Exit, and Investment-Specific Technical Change                                                       38   \n",
              "\n",
              "                                                                                                          Field  \\\n",
              "Title                                                                                                             \n",
              "Learning about a New Technology: Pineapple in Ghana                                                 Development   \n",
              "Multiple-Product Firms and Product Switching                                                           Labor/IO   \n",
              "Momma's Got the Pill\": How Anthony Comstock and Griswold v. Connecticut Shaped US Childbearing         Labor/IO   \n",
              "Matching and Sorting in Online Dating                                                                  Labor/IO   \n",
              "Entry, Exit, and Investment-Specific Technical Change                                           Macro/Int/Trade   \n",
              "\n",
              "                                                                                                Replications  \\\n",
              "Title                                                                                                          \n",
              "Learning about a New Technology: Pineapple in Ghana                                                      1.0   \n",
              "Multiple-Product Firms and Product Switching                                                             1.0   \n",
              "Momma's Got the Pill\": How Anthony Comstock and Griswold v. Connecticut Shaped US Childbearing           2.0   \n",
              "Matching and Sorting in Online Dating                                                                    0.0   \n",
              "Entry, Exit, and Investment-Specific Technical Change                                                    0.0   \n",
              "\n",
              "                                                                                                Extensions  \\\n",
              "Title                                                                                                        \n",
              "Learning about a New Technology: Pineapple in Ghana                                                   10.0   \n",
              "Multiple-Product Firms and Product Switching                                                           2.0   \n",
              "Momma's Got the Pill\": How Anthony Comstock and Griswold v. Connecticut Shaped US Childbearing         0.0   \n",
              "Matching and Sorting in Online Dating                                                                  5.0   \n",
              "Entry, Exit, and Investment-Specific Technical Change                                                  0.0   \n",
              "\n",
              "                                                                                                Both  \\\n",
              "Title                                                                                                  \n",
              "Learning about a New Technology: Pineapple in Ghana                                             11.0   \n",
              "Multiple-Product Firms and Product Switching                                                     3.0   \n",
              "Momma's Got the Pill\": How Anthony Comstock and Griswold v. Connecticut Shaped US Childbearing   2.0   \n",
              "Matching and Sorting in Online Dating                                                            5.0   \n",
              "Entry, Exit, and Investment-Specific Technical Change                                            0.0   \n",
              "\n",
              "                                                                                                 Total  \n",
              "Title                                                                                                   \n",
              "Learning about a New Technology: Pineapple in Ghana                                             1530.0  \n",
              "Multiple-Product Firms and Product Switching                                                     949.0  \n",
              "Momma's Got the Pill\": How Anthony Comstock and Griswold v. Connecticut Shaped US Childbearing   136.0  \n",
              "Matching and Sorting in Online Dating                                                            424.0  \n",
              "Entry, Exit, and Investment-Specific Technical Change                                             56.0  "
            ]
          },
          "execution_count": 14,
          "metadata": {},
          "output_type": "execute_result"
        }
      ],
      "source": [
        "# data.reset_index(inplace=True)   # Uncomment this if you receive an error\n",
        "\n",
        "data = data.set_index('Title')   # Can also use data.set_index('Title', inplace=True)\n",
        "data.head()"
      ]
    },
    {
      "cell_type": "markdown",
      "metadata": {
        "id": "SZ55DjGoVM19"
      },
      "source": [
        "**Q5 Give all the column values which contains \"Investment and Usage of New Technologies: Evidence from a Shared ATM Network\" in the 'title' field(5 points)**"
      ]
    },
    {
      "cell_type": "code",
      "execution_count": 15,
      "metadata": {
        "colab": {
          "base_uri": "https://localhost:8080/",
          "height": 143
        },
        "id": "K5ezvzHZiE-s",
        "outputId": "f8600712-52db-4eec-d0ed-99ddfed94be3"
      },
      "outputs": [
        {
          "data": {
            "text/html": [
              "<div>\n",
              "<style scoped>\n",
              "    .dataframe tbody tr th:only-of-type {\n",
              "        vertical-align: middle;\n",
              "    }\n",
              "\n",
              "    .dataframe tbody tr th {\n",
              "        vertical-align: top;\n",
              "    }\n",
              "\n",
              "    .dataframe thead th {\n",
              "        text-align: right;\n",
              "    }\n",
              "</style>\n",
              "<table border=\"1\" class=\"dataframe\">\n",
              "  <thead>\n",
              "    <tr style=\"text-align: right;\">\n",
              "      <th></th>\n",
              "      <th>ID</th>\n",
              "      <th>Web of Science</th>\n",
              "      <th>Top 200</th>\n",
              "      <th>Google Scholar</th>\n",
              "      <th>Field</th>\n",
              "      <th>Replications</th>\n",
              "      <th>Extensions</th>\n",
              "      <th>Both</th>\n",
              "      <th>Total</th>\n",
              "    </tr>\n",
              "    <tr>\n",
              "      <th>Title</th>\n",
              "      <th></th>\n",
              "      <th></th>\n",
              "      <th></th>\n",
              "      <th></th>\n",
              "      <th></th>\n",
              "      <th></th>\n",
              "      <th></th>\n",
              "      <th></th>\n",
              "      <th></th>\n",
              "    </tr>\n",
              "  </thead>\n",
              "  <tbody>\n",
              "    <tr>\n",
              "      <th>Matching and Sorting in Online Dating</th>\n",
              "      <td>5</td>\n",
              "      <td>75</td>\n",
              "      <td>23.0</td>\n",
              "      <td>326</td>\n",
              "      <td>Labor/IO</td>\n",
              "      <td>0.0</td>\n",
              "      <td>5.0</td>\n",
              "      <td>5.0</td>\n",
              "      <td>424.0</td>\n",
              "    </tr>\n",
              "    <tr>\n",
              "      <th>Learning about a New Technology: Pineapple in Ghana</th>\n",
              "      <td>2</td>\n",
              "      <td>176</td>\n",
              "      <td>108.0</td>\n",
              "      <td>1246</td>\n",
              "      <td>Development</td>\n",
              "      <td>1.0</td>\n",
              "      <td>10.0</td>\n",
              "      <td>11.0</td>\n",
              "      <td>1530.0</td>\n",
              "    </tr>\n",
              "  </tbody>\n",
              "</table>\n",
              "</div>"
            ],
            "text/plain": [
              "                                                     ID  Web of Science  \\\n",
              "Title                                                                     \n",
              "Matching and Sorting in Online Dating                 5              75   \n",
              "Learning about a New Technology: Pineapple in Ghana   2             176   \n",
              "\n",
              "                                                     Top 200  Google Scholar  \\\n",
              "Title                                                                          \n",
              "Matching and Sorting in Online Dating                   23.0             326   \n",
              "Learning about a New Technology: Pineapple in Ghana    108.0            1246   \n",
              "\n",
              "                                                           Field  \\\n",
              "Title                                                              \n",
              "Matching and Sorting in Online Dating                   Labor/IO   \n",
              "Learning about a New Technology: Pineapple in Ghana  Development   \n",
              "\n",
              "                                                     Replications  Extensions  \\\n",
              "Title                                                                           \n",
              "Matching and Sorting in Online Dating                         0.0         5.0   \n",
              "Learning about a New Technology: Pineapple in Ghana           1.0        10.0   \n",
              "\n",
              "                                                     Both   Total  \n",
              "Title                                                              \n",
              "Matching and Sorting in Online Dating                 5.0   424.0  \n",
              "Learning about a New Technology: Pineapple in Ghana  11.0  1530.0  "
            ]
          },
          "execution_count": 15,
          "metadata": {},
          "output_type": "execute_result"
        }
      ],
      "source": [
        "data.loc[['Matching and Sorting in Online Dating',\n",
        "          'Learning about a New Technology: Pineapple in Ghana']]"
      ]
    },
    {
      "cell_type": "markdown",
      "metadata": {
        "id": "5Oc1qyPKiE-s"
      },
      "source": [
        "Alternatively, we can filter our dataframe (select rows) using *boolean conditions*"
      ]
    },
    {
      "cell_type": "code",
      "execution_count": 16,
      "metadata": {
        "id": "V63Qpl7diE-s",
        "outputId": "2f68423e-b08e-45f5-b23b-f74de9cd4a87"
      },
      "outputs": [
        {
          "data": {
            "text/plain": [
              "0      True\n",
              "1     False\n",
              "2     False\n",
              "3     False\n",
              "4     False\n",
              "      ...  \n",
              "65    False\n",
              "66    False\n",
              "67    False\n",
              "68    False\n",
              "69    False\n",
              "Name: Field, Length: 70, dtype: bool"
            ]
          },
          "execution_count": 16,
          "metadata": {},
          "output_type": "execute_result"
        }
      ],
      "source": [
        "data.reset_index(inplace=True)\n",
        "\n",
        "data['Field'] == 'Development'"
      ]
    },
    {
      "cell_type": "markdown",
      "metadata": {
        "id": "BKI9FRhKiE-s"
      },
      "source": [
        "Selecting rows with this boolean condition will return only rows of the dataframe where `Field == 'Development'` is `True`"
      ]
    },
    {
      "cell_type": "code",
      "execution_count": 17,
      "metadata": {
        "id": "4IfgJMD0iE-s",
        "outputId": "ab8d4cae-88bb-4613-9d16-3907910cb5e5"
      },
      "outputs": [
        {
          "data": {
            "text/html": [
              "<div>\n",
              "<style scoped>\n",
              "    .dataframe tbody tr th:only-of-type {\n",
              "        vertical-align: middle;\n",
              "    }\n",
              "\n",
              "    .dataframe tbody tr th {\n",
              "        vertical-align: top;\n",
              "    }\n",
              "\n",
              "    .dataframe thead th {\n",
              "        text-align: right;\n",
              "    }\n",
              "</style>\n",
              "<table border=\"1\" class=\"dataframe\">\n",
              "  <thead>\n",
              "    <tr style=\"text-align: right;\">\n",
              "      <th></th>\n",
              "      <th>Title</th>\n",
              "      <th>ID</th>\n",
              "      <th>Web of Science</th>\n",
              "      <th>Top 200</th>\n",
              "      <th>Google Scholar</th>\n",
              "      <th>Field</th>\n",
              "      <th>Replications</th>\n",
              "      <th>Extensions</th>\n",
              "      <th>Both</th>\n",
              "      <th>Total</th>\n",
              "    </tr>\n",
              "  </thead>\n",
              "  <tbody>\n",
              "    <tr>\n",
              "      <th>0</th>\n",
              "      <td>Learning about a New Technology: Pineapple in Ghana</td>\n",
              "      <td>2</td>\n",
              "      <td>176</td>\n",
              "      <td>108.0</td>\n",
              "      <td>1246</td>\n",
              "      <td>Development</td>\n",
              "      <td>1.0</td>\n",
              "      <td>10.0</td>\n",
              "      <td>11.0</td>\n",
              "      <td>1530.0</td>\n",
              "    </tr>\n",
              "    <tr>\n",
              "      <th>7</th>\n",
              "      <td>Multinationals and Anti-Sweatshop Activism</td>\n",
              "      <td>9</td>\n",
              "      <td>21</td>\n",
              "      <td>8.0</td>\n",
              "      <td>134</td>\n",
              "      <td>Development</td>\n",
              "      <td>0.0</td>\n",
              "      <td>2.0</td>\n",
              "      <td>2.0</td>\n",
              "      <td>163.0</td>\n",
              "    </tr>\n",
              "    <tr>\n",
              "      <th>42</th>\n",
              "      <td>Determinants of Redistributive Politics: An Empirical Analysis of Land Reforms in West Bengal, I...</td>\n",
              "      <td>64</td>\n",
              "      <td>12</td>\n",
              "      <td>9.0</td>\n",
              "      <td>63</td>\n",
              "      <td>Development</td>\n",
              "      <td>0.0</td>\n",
              "      <td>1.0</td>\n",
              "      <td>1.0</td>\n",
              "      <td>84.0</td>\n",
              "    </tr>\n",
              "    <tr>\n",
              "      <th>45</th>\n",
              "      <td>Watta Satta: Bride Exchange and Women's Welfare in Rural Pakistan</td>\n",
              "      <td>73</td>\n",
              "      <td>6</td>\n",
              "      <td>4.0</td>\n",
              "      <td>37</td>\n",
              "      <td>Development</td>\n",
              "      <td>0.0</td>\n",
              "      <td>0.0</td>\n",
              "      <td>0.0</td>\n",
              "      <td>47.0</td>\n",
              "    </tr>\n",
              "    <tr>\n",
              "      <th>55</th>\n",
              "      <td>Inherited Trust and Growth</td>\n",
              "      <td>85</td>\n",
              "      <td>102</td>\n",
              "      <td>44.0</td>\n",
              "      <td>536</td>\n",
              "      <td>Development</td>\n",
              "      <td>3.0</td>\n",
              "      <td>3.0</td>\n",
              "      <td>6.0</td>\n",
              "      <td>682.0</td>\n",
              "    </tr>\n",
              "    <tr>\n",
              "      <th>64</th>\n",
              "      <td>Can Higher Prices Stimulate Product Use? Evidence from a Field Experiment in Zambia</td>\n",
              "      <td>97</td>\n",
              "      <td>44</td>\n",
              "      <td>21.0</td>\n",
              "      <td>265</td>\n",
              "      <td>Development</td>\n",
              "      <td>0.0</td>\n",
              "      <td>0.0</td>\n",
              "      <td>0.0</td>\n",
              "      <td>330.0</td>\n",
              "    </tr>\n",
              "  </tbody>\n",
              "</table>\n",
              "</div>"
            ],
            "text/plain": [
              "                                                                                                  Title  \\\n",
              "0                                                   Learning about a New Technology: Pineapple in Ghana   \n",
              "7                                                            Multinationals and Anti-Sweatshop Activism   \n",
              "42  Determinants of Redistributive Politics: An Empirical Analysis of Land Reforms in West Bengal, I...   \n",
              "45                                    Watta Satta: Bride Exchange and Women's Welfare in Rural Pakistan   \n",
              "55                                                                           Inherited Trust and Growth   \n",
              "64                  Can Higher Prices Stimulate Product Use? Evidence from a Field Experiment in Zambia   \n",
              "\n",
              "    ID  Web of Science  Top 200  Google Scholar        Field  Replications  \\\n",
              "0    2             176    108.0            1246  Development           1.0   \n",
              "7    9              21      8.0             134  Development           0.0   \n",
              "42  64              12      9.0              63  Development           0.0   \n",
              "45  73               6      4.0              37  Development           0.0   \n",
              "55  85             102     44.0             536  Development           3.0   \n",
              "64  97              44     21.0             265  Development           0.0   \n",
              "\n",
              "    Extensions  Both   Total  \n",
              "0         10.0  11.0  1530.0  \n",
              "7          2.0   2.0   163.0  \n",
              "42         1.0   1.0    84.0  \n",
              "45         0.0   0.0    47.0  \n",
              "55         3.0   6.0   682.0  \n",
              "64         0.0   0.0   330.0  "
            ]
          },
          "execution_count": 17,
          "metadata": {},
          "output_type": "execute_result"
        }
      ],
      "source": [
        "data[data['Field'] == 'Development']"
      ]
    },
    {
      "cell_type": "code",
      "execution_count": 18,
      "metadata": {
        "id": "HWNGy-5RiE-s",
        "outputId": "48966467-2e7d-4e33-db0b-581bbf75cd85"
      },
      "outputs": [
        {
          "data": {
            "text/html": [
              "<div>\n",
              "<style scoped>\n",
              "    .dataframe tbody tr th:only-of-type {\n",
              "        vertical-align: middle;\n",
              "    }\n",
              "\n",
              "    .dataframe tbody tr th {\n",
              "        vertical-align: top;\n",
              "    }\n",
              "\n",
              "    .dataframe thead th {\n",
              "        text-align: right;\n",
              "    }\n",
              "</style>\n",
              "<table border=\"1\" class=\"dataframe\">\n",
              "  <thead>\n",
              "    <tr style=\"text-align: right;\">\n",
              "      <th></th>\n",
              "      <th>Title</th>\n",
              "      <th>ID</th>\n",
              "      <th>Web of Science</th>\n",
              "      <th>Top 200</th>\n",
              "      <th>Google Scholar</th>\n",
              "      <th>Field</th>\n",
              "      <th>Replications</th>\n",
              "      <th>Extensions</th>\n",
              "      <th>Both</th>\n",
              "      <th>Total</th>\n",
              "    </tr>\n",
              "  </thead>\n",
              "  <tbody>\n",
              "    <tr>\n",
              "      <th>0</th>\n",
              "      <td>Learning about a New Technology: Pineapple in Ghana</td>\n",
              "      <td>2</td>\n",
              "      <td>176</td>\n",
              "      <td>108.0</td>\n",
              "      <td>1246</td>\n",
              "      <td>Development</td>\n",
              "      <td>1.0</td>\n",
              "      <td>10.0</td>\n",
              "      <td>11.0</td>\n",
              "      <td>1530.0</td>\n",
              "    </tr>\n",
              "    <tr>\n",
              "      <th>55</th>\n",
              "      <td>Inherited Trust and Growth</td>\n",
              "      <td>85</td>\n",
              "      <td>102</td>\n",
              "      <td>44.0</td>\n",
              "      <td>536</td>\n",
              "      <td>Development</td>\n",
              "      <td>3.0</td>\n",
              "      <td>3.0</td>\n",
              "      <td>6.0</td>\n",
              "      <td>682.0</td>\n",
              "    </tr>\n",
              "  </tbody>\n",
              "</table>\n",
              "</div>"
            ],
            "text/plain": [
              "                                                  Title  ID  Web of Science  \\\n",
              "0   Learning about a New Technology: Pineapple in Ghana   2             176   \n",
              "55                           Inherited Trust and Growth  85             102   \n",
              "\n",
              "    Top 200  Google Scholar        Field  Replications  Extensions  Both  \\\n",
              "0     108.0            1246  Development           1.0        10.0  11.0   \n",
              "55     44.0             536  Development           3.0         3.0   6.0   \n",
              "\n",
              "     Total  \n",
              "0   1530.0  \n",
              "55   682.0  "
            ]
          },
          "execution_count": 18,
          "metadata": {},
          "output_type": "execute_result"
        }
      ],
      "source": [
        "data[(data['Field'] == 'Development') & (data['Web of Science'] > 100)]"
      ]
    },
    {
      "cell_type": "markdown",
      "metadata": {
        "id": "-E5fvqJMiE-s"
      },
      "source": [
        "\n",
        "**Q6. How many papers in the sample have over 100 Google Scholar citations?\n",
        " Hint: use `len()` to find the length of a dataframe ( 5 points)**"
      ]
    },
    {
      "cell_type": "code",
      "execution_count": 19,
      "metadata": {
        "id": "7WWOBtlIZg0Q"
      },
      "outputs": [
        {
          "name": "stdout",
          "output_type": "stream",
          "text": [
            "Number of papers with over 100 Google Scholar citations: 44\n"
          ]
        }
      ],
      "source": [
        "# Filter the DataFrame to select rows where 'Google Scholar' > 100\n",
        "papers_over_100_citations = data[data['Google Scholar'] > 100]\n",
        "\n",
        "# Get the count of papers that meet the condition\n",
        "count_papers_over_100_citations = len(papers_over_100_citations)\n",
        "\n",
        "# Print the count\n",
        "print(\"Number of papers with over 100 Google Scholar citations:\", count_papers_over_100_citations)\n"
      ]
    },
    {
      "cell_type": "markdown",
      "metadata": {
        "id": "jAwoUjv2iE-s"
      },
      "source": [
        "#### How many 'Labor/IO' papers have over 100 Google Scholar citations?"
      ]
    },
    {
      "cell_type": "code",
      "execution_count": 20,
      "metadata": {
        "colab": {
          "base_uri": "https://localhost:8080/"
        },
        "collapsed": true,
        "id": "aooQ9x7HiE-s",
        "outputId": "6557d93b-4f37-4e6a-da7e-9de594979975"
      },
      "outputs": [
        {
          "data": {
            "text/plain": [
              "10"
            ]
          },
          "execution_count": 20,
          "metadata": {},
          "output_type": "execute_result"
        }
      ],
      "source": [
        "len(data[(data['Google Scholar'] > 100) & (data['Field'] == 'Labor/IO')])"
      ]
    },
    {
      "cell_type": "markdown",
      "metadata": {
        "id": "R7p5WQdGiE-t"
      },
      "source": [
        "## Grouping and aggregating data"
      ]
    },
    {
      "cell_type": "markdown",
      "metadata": {
        "id": "p8A7l8uJiE-t"
      },
      "source": [
        "We might want to summarize our data by grouping it by fields\n",
        "\n",
        "To do this, we will use the `.groupby()` function"
      ]
    },
    {
      "cell_type": "code",
      "execution_count": 21,
      "metadata": {
        "colab": {
          "base_uri": "https://localhost:8080/"
        },
        "id": "txfBL8qQiE-t",
        "outputId": "d492ffae-513d-469c-8fd1-8ad6f5faf19b"
      },
      "outputs": [
        {
          "data": {
            "text/plain": [
              "<pandas.core.groupby.generic.DataFrameGroupBy object at 0x00000239F17EBD10>"
            ]
          },
          "execution_count": 21,
          "metadata": {},
          "output_type": "execute_result"
        }
      ],
      "source": [
        "data.reset_index(inplace=True)\n",
        "\n",
        "grouped = data.groupby('Field')\n",
        "grouped"
      ]
    },
    {
      "cell_type": "markdown",
      "metadata": {
        "id": "fFkNWB-XiE-t"
      },
      "source": [
        "To return an *aggregated* dataframe, we need to specify the function we would like pandas to use to aggregate our groups"
      ]
    },
    {
      "cell_type": "code",
      "execution_count": 22,
      "metadata": {
        "colab": {
          "base_uri": "https://localhost:8080/"
        },
        "id": "NPQIme_oiE-t",
        "outputId": "d4ddb138-1827-461c-d00d-7e9f45568984"
      },
      "outputs": [
        {
          "data": {
            "text/plain": [
              "Field\n",
              "Applied (gen.)     1.428571\n",
              "Behavioral/Exp.    5.052632\n",
              "Development        3.333333\n",
              "Labor/IO           1.384615\n",
              "Macro/Int/Trade    1.160000\n",
              "Name: Both, dtype: float64"
            ]
          },
          "execution_count": 22,
          "metadata": {},
          "output_type": "execute_result"
        }
      ],
      "source": [
        "grouped['Both'].mean()"
      ]
    },
    {
      "cell_type": "code",
      "execution_count": 23,
      "metadata": {
        "id": "BZeHitXqiE-t",
        "outputId": "4f782939-a6fb-458d-a368-eace00ad327e"
      },
      "outputs": [
        {
          "data": {
            "text/html": [
              "<div>\n",
              "<style scoped>\n",
              "    .dataframe tbody tr th:only-of-type {\n",
              "        vertical-align: middle;\n",
              "    }\n",
              "\n",
              "    .dataframe tbody tr th {\n",
              "        vertical-align: top;\n",
              "    }\n",
              "\n",
              "    .dataframe thead th {\n",
              "        text-align: right;\n",
              "    }\n",
              "</style>\n",
              "<table border=\"1\" class=\"dataframe\">\n",
              "  <thead>\n",
              "    <tr style=\"text-align: right;\">\n",
              "      <th></th>\n",
              "      <th>mean</th>\n",
              "      <th>median</th>\n",
              "      <th>count</th>\n",
              "    </tr>\n",
              "    <tr>\n",
              "      <th>Field</th>\n",
              "      <th></th>\n",
              "      <th></th>\n",
              "      <th></th>\n",
              "    </tr>\n",
              "  </thead>\n",
              "  <tbody>\n",
              "    <tr>\n",
              "      <th>Applied (gen.)</th>\n",
              "      <td>1.428571</td>\n",
              "      <td>1.0</td>\n",
              "      <td>7</td>\n",
              "    </tr>\n",
              "    <tr>\n",
              "      <th>Behavioral/Exp.</th>\n",
              "      <td>5.052632</td>\n",
              "      <td>4.0</td>\n",
              "      <td>19</td>\n",
              "    </tr>\n",
              "    <tr>\n",
              "      <th>Development</th>\n",
              "      <td>3.333333</td>\n",
              "      <td>1.5</td>\n",
              "      <td>6</td>\n",
              "    </tr>\n",
              "    <tr>\n",
              "      <th>Labor/IO</th>\n",
              "      <td>1.384615</td>\n",
              "      <td>1.0</td>\n",
              "      <td>13</td>\n",
              "    </tr>\n",
              "    <tr>\n",
              "      <th>Macro/Int/Trade</th>\n",
              "      <td>1.160000</td>\n",
              "      <td>0.0</td>\n",
              "      <td>25</td>\n",
              "    </tr>\n",
              "  </tbody>\n",
              "</table>\n",
              "</div>"
            ],
            "text/plain": [
              "                     mean  median  count\n",
              "Field                                   \n",
              "Applied (gen.)   1.428571     1.0      7\n",
              "Behavioral/Exp.  5.052632     4.0     19\n",
              "Development      3.333333     1.5      6\n",
              "Labor/IO         1.384615     1.0     13\n",
              "Macro/Int/Trade  1.160000     0.0     25"
            ]
          },
          "execution_count": 23,
          "metadata": {},
          "output_type": "execute_result"
        }
      ],
      "source": [
        "grouped['Both'].agg(['mean', 'median', 'count'])"
      ]
    },
    {
      "cell_type": "markdown",
      "metadata": {
        "id": "2EnnU0wyiE-t"
      },
      "source": [
        "A list of built-in aggregatation functions can be found [here](http://pandas.pydata.org/pandas-docs/stable/basics.html#descriptive-statistics)\n",
        "\n",
        "## Plotting\n",
        "\n",
        "Pandas provides a built-in plotting command to create `matplotlib` plots from your dataframes\n",
        "\n",
        "To display our plots, we need to import first `matplotlib`"
      ]
    },
    {
      "cell_type": "code",
      "execution_count": 24,
      "metadata": {
        "id": "X3tl9buSiE-t",
        "outputId": "9e2f7c16-609b-4cc2-9a20-2d617a9eb42c"
      },
      "outputs": [
        {
          "data": {
            "image/png": "[encoded data removed]",
            "text/plain": [
              "<Figure size 640x480 with 1 Axes>"
            ]
          },
          "metadata": {},
          "output_type": "display_data"
        }
      ],
      "source": [
        "import matplotlib.pyplot as plt\n",
        "\n",
        "grouped['Google Scholar'].mean().plot(kind='bar')\n",
        "plt.show()"
      ]
    },
    {
      "cell_type": "markdown",
      "metadata": {
        "id": "xw2Nibi2fCzG"
      },
      "source": [
        "**Q7. What does alpha = 0.6 represent in the below code. Explain.(5 points)**"
      ]
    },
    {
      "cell_type": "code",
      "execution_count": 25,
      "metadata": {
        "id": "6ZI5nwjGiE-u",
        "outputId": "f43a982e-eaec-4690-93b9-573cbbd8582b"
      },
      "outputs": [
        {
          "data": {
            "image/png": "[encoded data removed]",
            "text/plain": [
              "<Figure size 640x480 with 1 Axes>"
            ]
          },
          "metadata": {},
          "output_type": "display_data"
        }
      ],
      "source": [
        "data.plot(x='Google Scholar', y='Both', kind='scatter', alpha=0.6)\n",
        "plt.ylabel('Total replications and extensions')\n",
        "plt.xlabel('Number of citations')\n",
        "plt.grid()\n",
        "plt.show()"
      ]
    },
    {
      "cell_type": "markdown",
      "metadata": {
        "id": "MKlzNs-fiE-v"
      },
      "source": [
        "\n",
        "**Q8. Give the bar Plot the average number of replications and extensions for each field, sorted from highest to lowest(10 points)**"
      ]
    },
    {
      "cell_type": "markdown",
      "metadata": {
        "id": "TlQ_K2IgiE-v"
      },
      "source": [
        "## Another plotting library: `seaborn`\n",
        "\n",
        "* `seaborn` is a plotting library built on top of `matplotlib`\n",
        "\n",
        "* It is geared towards producing pretty plots for statistical applications\n",
        "\n",
        "* You can find an example gallery of `seaborn` plots [here](https://seaborn.pydata.org/examples/index.html)"
      ]
    },
    {
      "cell_type": "code",
      "execution_count": 26,
      "metadata": {
        "collapsed": true,
        "id": "K_dAgPPViE-v"
      },
      "outputs": [],
      "source": [
        "import seaborn as sns  # Import the package"
      ]
    },
    {
      "cell_type": "markdown",
      "metadata": {
        "id": "9BskqX5chqJg"
      },
      "source": [
        "**Q9. Make a joint plot for 'Google Scholar' on x - axis and 'Both' on y axis  and visualize it(10 points)**"
      ]
    },
    {
      "cell_type": "code",
      "execution_count": 27,
      "metadata": {
        "id": "GsTG9WK5iE-v",
        "outputId": "d995be27-f30a-4bf1-c6f1-440ebb6e3384"
      },
      "outputs": [
        {
          "name": "stderr",
          "output_type": "stream",
          "text": [
            "C:\\Users\\singa\\AppData\\Local\\Temp\\ipykernel_3408\\4079309540.py:1: UserWarning: \n",
            "\n",
            "The `bw` parameter is deprecated in favor of `bw_method` and `bw_adjust`.\n",
            "Setting `bw_method=2`, but please see the docs for the new parameters\n",
            "and update your code. This will become an error in seaborn v0.13.0.\n",
            "\n",
            "  sns.kdeplot(data=data[data['Replications'] > 0].loc[:, 'Web of Science'], cumulative=True, bw=2)\n",
            "C:\\Users\\singa\\AppData\\Local\\Temp\\ipykernel_3408\\4079309540.py:2: UserWarning: \n",
            "\n",
            "The `bw` parameter is deprecated in favor of `bw_method` and `bw_adjust`.\n",
            "Setting `bw_method=2`, but please see the docs for the new parameters\n",
            "and update your code. This will become an error in seaborn v0.13.0.\n",
            "\n",
            "  sns.kdeplot(data=data[data['Replications'] == 0].loc[:, 'Web of Science'], cumulative=True, linestyle='--', bw=2)\n"
          ]
        },
        {
          "data": {
            "image/png": "[encoded data removed]",
            "text/plain": [
              "<Figure size 640x480 with 1 Axes>"
            ]
          },
          "metadata": {},
          "output_type": "display_data"
        }
      ],
      "source": [
        "sns.kdeplot(data=data[data['Replications'] > 0].loc[:, 'Web of Science'], cumulative=True, bw=2)\n",
        "sns.kdeplot(data=data[data['Replications'] == 0].loc[:, 'Web of Science'], cumulative=True, linestyle='--', bw=2)\n",
        "plt.xlim(0, 200)\n",
        "plt.xlabel('Web of Science Citations')\n",
        "plt.ylabel('CDF')\n",
        "plt.legend(['One or more replications', 'No replications'])\n",
        "plt.show()"
      ]
    },
    {
      "cell_type": "markdown",
      "metadata": {
        "id": "lMPN2OwjiE-v"
      },
      "source": [
        "## Bokeh example\n",
        "\n",
        "Bokeh is a Python library that makes creating interactive plots super easy - an example gallery is [here](http://bokeh.pydata.org/en/latest/docs/gallery.html)"
      ]
    },
    {
      "cell_type": "code",
      "execution_count": 29,
      "metadata": {
        "id": "ist_7khoiE-v",
        "outputId": "d12121f8-0e63-423c-fb76-125846724c3c"
      },
      "outputs": [
        {
          "data": {
            "text/html": [
              "<style>\n",
              "        .bk-notebook-logo {\n",
              "            display: block;\n",
              "            width: 20px;\n",
              "            height: 20px;\n",
              "            background-image: url(data:image/png;base64,iVBORw0KGgoAAAANSUhEUgAAABQAAAAUCAYAAACNiR0NAAAABHNCSVQICAgIfAhkiAAAAAlwSFlzAAALEgAACxIB0t1+/AAAABx0RVh0U29mdHdhcmUAQWRvYmUgRmlyZXdvcmtzIENTNui8sowAAAOkSURBVDiNjZRtaJVlGMd/1/08zzln5zjP1LWcU9N0NkN8m2CYjpgQYQXqSs0I84OLIC0hkEKoPtiH3gmKoiJDU7QpLgoLjLIQCpEsNJ1vqUOdO7ppbuec5+V+rj4ctwzd8IIbbi6u+8f1539dt3A78eXC7QizUF7gyV1fD1Yqg4JWz84yffhm0qkFqBogB9rM8tZdtwVsPUhWhGcFJngGeWrPzHm5oaMmkfEg1usvLFyc8jLRqDOMru7AyC8saQr7GG7f5fvDeH7Ej8CM66nIF+8yngt6HWaKh7k49Soy9nXurCi1o3qUbS3zWfrYeQDTB/Qj6kX6Ybhw4B+bOYoLKCC9H3Nu/leUTZ1JdRWkkn2ldcCamzrcf47KKXdAJllSlxAOkRgyHsGC/zRday5Qld9DyoM4/q/rUoy/CXh3jzOu3bHUVZeU+DEn8FInkPBFlu3+nW3Nw0mk6vCDiWg8CeJaxEwuHS3+z5RgY+YBR6V1Z1nxSOfoaPa4LASWxxdNp+VWTk7+4vzaou8v8PN+xo+KY2xsw6une2frhw05CTYOmQvsEhjhWjn0bmXPjpE1+kplmmkP3suftwTubK9Vq22qKmrBhpY4jvd5afdRA3wGjFAgcnTK2s4hY0/GPNIb0nErGMCRxWOOX64Z8RAC4oCXdklmEvcL8o0BfkNK4lUg9HTl+oPlQxdNo3Mg4Nv175e/1LDGzZen30MEjRUtmXSfiTVu1kK8W4txyV6BMKlbgk3lMwYCiusNy9fVfvvwMxv8Ynl6vxoByANLTWplvuj/nF9m2+PDtt1eiHPBr1oIfhCChQMBw6Aw0UulqTKZdfVvfG7VcfIqLG9bcldL/+pdWTLxLUy8Qq38heUIjh4XlzZxzQm19lLFlr8vdQ97rjZVOLf8nclzckbcD4wxXMidpX30sFd37Fv/GtwwhzhxGVAprjbg0gCAEeIgwCZyTV2Z1REEW8O4py0wsjeloKoMr6iCY6dP92H6Vw/oTyICIthibxjm/DfN9lVz8IqtqKYLUXfoKVMVQVVJOElGjrnnUt9T9wbgp8AyYKaGlqingHZU/uG2NTZSVqwHQTWkx9hxjkpWDaCg6Ckj5qebgBVbT3V3NNXMSiWSDdGV3hrtzla7J+duwPOToIg42ChPQOQjspnSlp1V+Gjdged7+8UN5CRAV7a5EdFNwCjEaBR27b3W890TE7g24NAP/mMDXRWrGoFPQI9ls/MWO2dWFAar/xcOIImbbpA3zgAAAABJRU5ErkJggg==);\n",
              "        }\n",
              "    </style>\n",
              "    <div>\n",
              "        <a href=\"https://bokeh.org\" target=\"_blank\" class=\"bk-notebook-logo\"></a>\n",
              "        <span id=\"c8755ac9-672b-4d8a-b39d-226485920e27\">Loading BokehJS ...</span>\n",
              "    </div>\n"
            ]
          },
          "metadata": {},
          "output_type": "display_data"
        },
        {
          "data": {
            "application/javascript": "(function(root) {\n  function now() {\n    return new Date();\n  }\n\n  const force = true;\n\n  if (typeof root._bokeh_onload_callbacks === \"undefined\" || force === true) {\n    root._bokeh_onload_callbacks = [];\n    root._bokeh_is_loading = undefined;\n  }\n\nconst JS_MIME_TYPE = 'application/javascript';\n  const HTML_MIME_TYPE = 'text/html';\n  const EXEC_MIME_TYPE = 'application/vnd.bokehjs_exec.v0+json';\n  const CLASS_NAME = 'output_bokeh rendered_html';\n\n  /**\n   * Render data to the DOM node\n   */\n  function render(props, node) {\n    const script = document.createElement(\"script\");\n    node.appendChild(script);\n  }\n\n  /**\n   * Handle when an output is cleared or removed\n   */\n  function handleClearOutput(event, handle) {\n    const cell = handle.cell;\n\n    const id = cell.output_area._bokeh_element_id;\n    const server_id = cell.output_area._bokeh_server_id;\n    // Clean up Bokeh references\n    if (id != null && id in Bokeh.index) {\n      Bokeh.index[id].model.document.clear();\n      delete Bokeh.index[id];\n    }\n\n    if (server_id !== undefined) {\n      // Clean up Bokeh references\n      const cmd_clean = \"from bokeh.io.state import curstate; print(curstate().uuid_to_server['\" + server_id + \"'].get_sessions()[0].document.roots[0]._id)\";\n      cell.notebook.kernel.execute(cmd_clean, {\n        iopub: {\n          output: function(msg) {\n            const id = msg.content.text.trim();\n            if (id in Bokeh.index) {\n              Bokeh.index[id].model.document.clear();\n              delete Bokeh.index[id];\n            }\n          }\n        }\n      });\n      // Destroy server and session\n      const cmd_destroy = \"import bokeh.io.notebook as ion; ion.destroy_server('\" + server_id + \"')\";\n      cell.notebook.kernel.execute(cmd_destroy);\n    }\n  }\n\n  /**\n   * Handle when a new output is added\n   */\n  function handleAddOutput(event, handle) {\n    const output_area = handle.output_area;\n    const output = handle.output;\n\n    // limit handleAddOutput to display_data with EXEC_MIME_TYPE content only\n    if ((output.output_type != \"display_data\") || (!Object.prototype.hasOwnProperty.call(output.data, EXEC_MIME_TYPE))) {\n      return\n    }\n\n    const toinsert = output_area.element.find(\".\" + CLASS_NAME.split(' ')[0]);\n\n    if (output.metadata[EXEC_MIME_TYPE][\"id\"] !== undefined) {\n      toinsert[toinsert.length - 1].firstChild.textContent = output.data[JS_MIME_TYPE];\n      // store reference to embed id on output_area\n      output_area._bokeh_element_id = output.metadata[EXEC_MIME_TYPE][\"id\"];\n    }\n    if (output.metadata[EXEC_MIME_TYPE][\"server_id\"] !== undefined) {\n      const bk_div = document.createElement(\"div\");\n      bk_div.innerHTML = output.data[HTML_MIME_TYPE];\n      const script_attrs = bk_div.children[0].attributes;\n      for (let i = 0; i < script_attrs.length; i++) {\n        toinsert[toinsert.length - 1].firstChild.setAttribute(script_attrs[i].name, script_attrs[i].value);\n        toinsert[toinsert.length - 1].firstChild.textContent = bk_div.children[0].textContent\n      }\n      // store reference to server id on output_area\n      output_area._bokeh_server_id = output.metadata[EXEC_MIME_TYPE][\"server_id\"];\n    }\n  }\n\n  function register_renderer(events, OutputArea) {\n\n    function append_mime(data, metadata, element) {\n      // create a DOM node to render to\n      const toinsert = this.create_output_subarea(\n        metadata,\n        CLASS_NAME,\n        EXEC_MIME_TYPE\n      );\n      this.keyboard_manager.register_events(toinsert);\n      // Render to node\n      const props = {data: data, metadata: metadata[EXEC_MIME_TYPE]};\n      render(props, toinsert[toinsert.length - 1]);\n      element.append(toinsert);\n      return toinsert\n    }\n\n    /* Handle when an output is cleared or removed */\n    events.on('clear_output.CodeCell', handleClearOutput);\n    events.on('delete.Cell', handleClearOutput);\n\n    /* Handle when a new output is added */\n    events.on('output_added.OutputArea', handleAddOutput);\n\n    /**\n     * Register the mime type and append_mime function with output_area\n     */\n    OutputArea.prototype.register_mime_type(EXEC_MIME_TYPE, append_mime, {\n      /* Is output safe? */\n      safe: true,\n      /* Index of renderer in `output_area.display_order` */\n      index: 0\n    });\n  }\n\n  // register the mime type if in Jupyter Notebook environment and previously unregistered\n  if (root.Jupyter !== undefined) {\n    const events = require('base/js/events');\n    const OutputArea = require('notebook/js/outputarea').OutputArea;\n\n    if (OutputArea.prototype.mime_types().indexOf(EXEC_MIME_TYPE) == -1) {\n      register_renderer(events, OutputArea);\n    }\n  }\n  if (typeof (root._bokeh_timeout) === \"undefined\" || force === true) {\n    root._bokeh_timeout = Date.now() + 5000;\n    root._bokeh_failed_load = false;\n  }\n\n  const NB_LOAD_WARNING = {'data': {'text/html':\n     \"<div style='background-color: #fdd'>\\n\"+\n     \"<p>\\n\"+\n     \"BokehJS does not appear to have successfully loaded. If loading BokehJS from CDN, this \\n\"+\n     \"may be due to a slow or bad network connection. Possible fixes:\\n\"+\n     \"</p>\\n\"+\n     \"<ul>\\n\"+\n     \"<li>re-rerun `output_notebook()` to attempt to load from CDN again, or</li>\\n\"+\n     \"<li>use INLINE resources instead, as so:</li>\\n\"+\n     \"</ul>\\n\"+\n     \"<code>\\n\"+\n     \"from bokeh.resources import INLINE\\n\"+\n     \"output_notebook(resources=INLINE)\\n\"+\n     \"</code>\\n\"+\n     \"</div>\"}};\n\n  function display_loaded() {\n    const el = document.getElementById(\"c8755ac9-672b-4d8a-b39d-226485920e27\");\n    if (el != null) {\n      el.textContent = \"BokehJS is loading...\";\n    }\n    if (root.Bokeh !== undefined) {\n      if (el != null) {\n        el.textContent = \"BokehJS \" + root.Bokeh.version + \" successfully loaded.\";\n      }\n    } else if (Date.now() < root._bokeh_timeout) {\n      setTimeout(display_loaded, 100)\n    }\n  }\n\n  function run_callbacks() {\n    try {\n      root._bokeh_onload_callbacks.forEach(function(callback) {\n        if (callback != null)\n          callback();\n      });\n    } finally {\n      delete root._bokeh_onload_callbacks\n    }\n    console.debug(\"Bokeh: all callbacks have finished\");\n  }\n\n  function load_libs(css_urls, js_urls, callback) {\n    if (css_urls == null) css_urls = [];\n    if (js_urls == null) js_urls = [];\n\n    root._bokeh_onload_callbacks.push(callback);\n    if (root._bokeh_is_loading > 0) {\n      console.debug(\"Bokeh: BokehJS is being loaded, scheduling callback at\", now());\n      return null;\n    }\n    if (js_urls == null || js_urls.length === 0) {\n      run_callbacks();\n      return null;\n    }\n    console.debug(\"Bokeh: BokehJS not loaded, scheduling load and callback at\", now());\n    root._bokeh_is_loading = css_urls.length + js_urls.length;\n\n    function on_load() {\n      root._bokeh_is_loading--;\n      if (root._bokeh_is_loading === 0) {\n        console.debug(\"Bokeh: all BokehJS libraries/stylesheets loaded\");\n        run_callbacks()\n      }\n    }\n\n    function on_error(url) {\n      console.error(\"failed to load \" + url);\n    }\n\n    for (let i = 0; i < css_urls.length; i++) {\n      const url = css_urls[i];\n      const element = document.createElement(\"link\");\n      element.onload = on_load;\n      element.onerror = on_error.bind(null, url);\n      element.rel = \"stylesheet\";\n      element.type = \"text/css\";\n      element.href = url;\n      console.debug(\"Bokeh: injecting link tag for BokehJS stylesheet: \", url);\n      document.body.appendChild(element);\n    }\n\n    for (let i = 0; i < js_urls.length; i++) {\n      const url = js_urls[i];\n      const element = document.createElement('script');\n      element.onload = on_load;\n      element.onerror = on_error.bind(null, url);\n      element.async = false;\n      element.src = url;\n      console.debug(\"Bokeh: injecting script tag for BokehJS library: \", url);\n      document.head.appendChild(element);\n    }\n  };\n\n  function inject_raw_css(css) {\n    const element = document.createElement(\"style\");\n    element.appendChild(document.createTextNode(css));\n    document.body.appendChild(element);\n  }\n\n  const js_urls = [\"https://cdn.bokeh.org/bokeh/release/bokeh-3.2.2.min.js\", \"https://cdn.bokeh.org/bokeh/release/bokeh-gl-3.2.2.min.js\", \"https://cdn.bokeh.org/bokeh/release/bokeh-widgets-3.2.2.min.js\", \"https://cdn.bokeh.org/bokeh/release/bokeh-tables-3.2.2.min.js\", \"https://cdn.bokeh.org/bokeh/release/bokeh-mathjax-3.2.2.min.js\"];\n  const css_urls = [];\n\n  const inline_js = [    function(Bokeh) {\n      Bokeh.set_log_level(\"info\");\n    },\nfunction(Bokeh) {\n    }\n  ];\n\n  function run_inline_js() {\n    if (root.Bokeh !== undefined || force === true) {\n          for (let i = 0; i < inline_js.length; i++) {\n      inline_js[i].call(root, root.Bokeh);\n    }\nif (force === true) {\n        display_loaded();\n      }} else if (Date.now() < root._bokeh_timeout) {\n      setTimeout(run_inline_js, 100);\n    } else if (!root._bokeh_failed_load) {\n      console.log(\"Bokeh: BokehJS failed to load within specified timeout.\");\n      root._bokeh_failed_load = true;\n    } else if (force !== true) {\n      const cell = $(document.getElementById(\"c8755ac9-672b-4d8a-b39d-226485920e27\")).parents('.cell').data().cell;\n      cell.output_area.append_execute_result(NB_LOAD_WARNING)\n    }\n  }\n\n  if (root._bokeh_is_loading === 0) {\n    console.debug(\"Bokeh: BokehJS loaded, going straight to plotting\");\n    run_inline_js();\n  } else {\n    load_libs(css_urls, js_urls, function() {\n      console.debug(\"Bokeh: BokehJS plotting callback run at\", now());\n      run_inline_js();\n    });\n  }\n}(window));",
            "application/vnd.bokehjs_load.v0+json": ""
          },
          "metadata": {},
          "output_type": "display_data"
        },
        {
          "data": {
            "text/html": [
              "\n",
              "  <div id=\"a928fbab-d297-4435-b753-2c3319cb8579\" data-root-id=\"p1004\" style=\"display: contents;\"></div>\n"
            ]
          },
          "metadata": {},
          "output_type": "display_data"
        },
        {
          "data": {
            "application/javascript": "(function(root) {\n  function embed_document(root) {\n  const docs_json = {\"727255d7-808a-4bfe-a249-84dc0a1aea65\":{\"version\":\"3.2.2\",\"title\":\"Bokeh Application\",\"roots\":[{\"type\":\"object\",\"name\":\"Figure\",\"id\":\"p1004\",\"attributes\":{\"x_range\":{\"type\":\"object\",\"name\":\"DataRange1d\",\"id\":\"p1005\"},\"y_range\":{\"type\":\"object\",\"name\":\"DataRange1d\",\"id\":\"p1006\"},\"x_scale\":{\"type\":\"object\",\"name\":\"LinearScale\",\"id\":\"p1013\"},\"y_scale\":{\"type\":\"object\",\"name\":\"LinearScale\",\"id\":\"p1014\"},\"title\":{\"type\":\"object\",\"name\":\"Title\",\"id\":\"p1011\"},\"renderers\":[{\"type\":\"object\",\"name\":\"GlyphRenderer\",\"id\":\"p1032\",\"attributes\":{\"data_source\":{\"type\":\"object\",\"name\":\"ColumnDataSource\",\"id\":\"p1001\",\"attributes\":{\"selected\":{\"type\":\"object\",\"name\":\"Selection\",\"id\":\"p1002\",\"attributes\":{\"indices\":[],\"line_indices\":[]}},\"selection_policy\":{\"type\":\"object\",\"name\":\"UnionRenderers\",\"id\":\"p1003\"},\"data\":{\"type\":\"map\",\"entries\":[[\"index\",{\"type\":\"ndarray\",\"array\":{\"type\":\"bytes\",\"data\":\"AAAAAAEAAAACAAAAAwAAAAQAAAAFAAAABgAAAAcAAAAIAAAACQAAAAoAAAALAAAADAAAAA0AAAAOAAAADwAAABAAAAARAAAAEgAAABMAAAAUAAAAFQAAABYAAAAXAAAAGAAAABkAAAAaAAAAGwAAABwAAAAdAAAAHgAAAB8AAAAgAAAAIQAAACIAAAAjAAAAJAAAACUAAAAmAAAAJwAAACgAAAApAAAAKgAAACsAAAAsAAAALQAAAC4AAAAvAAAAMAAAADEAAAAyAAAAMwAAADQAAAA1AAAANgAAADcAAAA4AAAAOQAAADoAAAA7AAAAPAAAAD0AAAA+AAAAPwAAAEAAAABBAAAAQgAAAEMAAABEAAAARQAAAA==\"},\"shape\":[70],\"dtype\":\"int32\",\"order\":\"little\"}],[\"ID\",{\"type\":\"ndarray\",\"array\":{\"type\":\"bytes\",\"data\":\"AgAAAAMAAAAEAAAABQAAAAYAAAAHAAAACAAAAAkAAAALAAAADAAAAA0AAAAPAAAAEgAAABMAAAAUAAAAFQAAABYAAAAXAAAAGAAAAB8AAAAgAAAAIQAAACMAAAAkAAAAJQAAACYAAAAnAAAAKAAAACkAAAAqAAAAKwAAACwAAAAuAAAALwAAADAAAAAxAAAAOAAAADkAAAA6AAAAOwAAAD0AAAA/AAAAQAAAAEQAAABIAAAASQAAAEoAAABLAAAATAAAAE4AAABPAAAAUQAAAFIAAABTAAAAVAAAAFUAAABWAAAAVwAAAFgAAABZAAAAWgAAAFwAAABeAAAAXwAAAGEAAABiAAAAZAAAAGUAAABmAAAAaAAAAA==\"},\"shape\":[70],\"dtype\":\"int32\",\"order\":\"little\"}],[\"Title\",{\"type\":\"ndarray\",\"array\":[\"Learning about a New Technology: Pineapple in Ghana\",\"Multiple-Product Firms and Product Switching\",\"Momma's Got the Pill\\\": How Anthony Comstock and Griswold v. Connecticut Shaped US Childbearing\",\"Matching and Sorting in Online Dating\",\"Entry, Exit, and Investment-Specific Technical Change\",\"Patient Cost-Sharing and Hospitalization Offsets in the Elderly\",\"Contractibility and the Design of Research Agreements\",\"Multinationals and Anti-Sweatshop Activism\",\"Currency Choice and Exchange Rate Pass-Through\",\"Demographics and the Politics of Capital Taxation in a Life-Cycle Economy\",\"Can Multistage Production Explain the Home Bias in Trade?\",\"Intergroup Conflict and Intra-Group Punishment in an Experimental Contest Game\",\"Monetary Policy Rules and Macroeconomic Stability: Some New Evidence\",\"Tournaments and Office Politics: Evidence from a Real Effort Experiment\",\"Financial Exchange Rates and International Currency Exposures\",\"Social Preferences, Beliefs, and the Dynamics of Free Riding in Public Goods Experiments\",\"Risk and Time Preferences: Linking Experimental and Household Survey Data from Vietnam\",\"Earnings Losses of Displaced Workers Revisited\",\"The Effect of Medicare Part D on Pharmaceutical Prices and Utilization\",\"Product Creation and Destruction: Evidence and Price Implications\",\"A Study of the Internal Organization of a Bidding Cartel\",\"The Macroeconomic Effects of Tax Changes: Estimates Based on a New Measure of Fiscal Shocks\",\"Emissions Trading, Electricity Restructuring, and Investment in Pollution Abatement\",\"Infrequent Portfolio Decisions: A Solution to the Forward Discount Puzzle\",\"A New Approach to Estimating the Production Function for Housing\",\"Technology Adoption with Exit in Imperfectly Informed Equity Markets\",\"Is a Donor in Hand Better than Two in the Bush? Evidence from a Natural Field Experiment\",\"Pinocchio's Pupil: Using Eyetracking and Pupil Dilation to Understand Truth Telling and Deception in Sender-Receiver Games\",\"Trade Shocks and Labor Adjustment: A Structural Empirical Approach\",\"Investment and Usage of New Technologies: Evidence from a Shared ATM Network\",\"Intertemporal Consumption and Credit Constraints: Does Total Expenditure Respond to an Exogenous Shock to Credit?\",\"A Theory of Optimal Random Crackdowns\",\"The Burden of the Nondiversifiable Risk of Entrepreneurship\",\"What Causes Industry Agglomeration? Evidence from Coagglomeration Patterns\",\"Specific Capital and Vintage Effects on the Dynamics of Unemployment and Vacancies\",\"Are Risk Aversion and Impatience Related to Cognitive Ability?\",\"Identifying the Elasticity of Substitution with Biased Technical Change\",\"Social Comparisons and Contributions to Online Communities: A Field Experiment on MovieLens\",\"Are Health Insurance Markets Competitive?\",\"Wage Risk and Employment Risk over the Life Cycle\",\"Technology Capital and the US Current Account\",\"Pavlovian Processes in Consumer Choice: The Physical Presence of a Good Increases Willingness-to-Pay\",\"Determinants of Redistributive Politics: An Empirical Analysis of Land Reforms in West Bengal, India\",\"Consumption Taxes and Redistribution\",\"Preemption Games: Theory and Experiment\",\"Watta Satta: Bride Exchange and Women's Welfare in Rural Pakistan\",\"Self-Interest through Delegation: An Additional Rationale for the Principal-Agent Relationship\",\"The Gender Wage Gap and Domestic Violence\",\"Constrained School Choice: An Experimental Study\",\"Efficiency Gains from Team-Based Coordination-Large-Scale Experimental Evidence\",\"Social Identity and Preferences\",\"Sudden Stops, Financial Crises, and Leverage\",\"The Political Economy of the US Mortgage Default Crisis\",\"Margins of Multinational Labor Substitution\",\"An Exploration of Technology Diffusion\",\"Inherited Trust and Growth\",\"International Trade and Income Differences\",\"Early Admissions at Selective Colleges\",\"The Changing Incidence of Geography\",\"Is Reputation Good or Bad? An Experiment\",\"Institutions and Behavior: Experimental Evidence on the Effects of Democracy\",\"Social Preferences and Strategic Uncertainty: An Experiment on Markets and Contracts\",\"Inventories, Lumpy Trade, and Large Devaluations\",\"Do We Follow Others when We Should? A Simple Test of Rational Expectations\",\"Can Higher Prices Stimulate Product Use? Evidence from a Field Experiment in Zambia\",\"Inheritance Law and Investment in Family Firms\",\"Organizational Structure, Communication, and Group Ethics\",\"Doing Well by Doing Good? Green Office Buildings\",\"Real Business Cycles in Emerging Countries?\",\"Psychological Pressure in Competitive Environments: Evidence from a Randomized Natural Experiment\"],\"shape\":[70],\"dtype\":\"object\",\"order\":\"little\"}],[\"Web of Science\",{\"type\":\"ndarray\",\"array\":{\"type\":\"bytes\",\"data\":\"sAAAAG8AAAAXAAAASwAAAAkAAABCAAAAGwAAABUAAAAzAAAAAwAAABgAAAAzAAAAFAAAAB0AAAAaAAAAwwAAAHMAAAA3AAAAHgAAACMAAAAVAAAArQAAAB0AAAAfAAAADQAAAAEAAAASAAAAOAAAAB8AAAAHAAAACgAAAAQAAAAWAAAAjQAAAAQAAACOAAAALQAAADEAAAAdAAAAKwAAABQAAAAcAAAADAAAAAMAAAABAAAABgAAACkAAAAeAAAAEQAAABAAAABLAAAAXQAAACMAAAATAAAAJAAAAGYAAAAzAAAACwAAABIAAAAIAAAAJgAAAA4AAAAVAAAAEgAAACwAAAAWAAAACAAAAEUAAAAzAAAAGwAAAA==\"},\"shape\":[70],\"dtype\":\"int32\",\"order\":\"little\"}],[\"Top 200\",{\"type\":\"ndarray\",\"array\":{\"type\":\"bytes\",\"data\":\"AAAAAAAAW0AAAAAAAIBSQAAAAAAAAC5AAAAAAAAAN0AAAAAAAAAiQAAAAAAAADRAAAAAAAAAJkAAAAAAAAAgQAAAAAAAAEFAAAAAAAAA8D8AAAAAAAAyQAAAAAAAAD1AAAAAAAAAKkAAAAAAAAAzQAAAAAAAACpAAAAAAACAVUAAAAAAAABRQAAAAAAAADVAAAAAAAAAMkAAAAAAAAA4QAAAAAAAACZAAAAAAABAUUAAAAAAAAAwQAAAAAAAAC5AAAAAAAAAJkAAAAAAAAAAAAAAAAAAACRAAAAAAAAAPEAAAAAAAAA3QAAAAAAAABRAAAAAAAAAFEAAAAAAAAAAQAAAAAAAACpAAAAAAABAV0AAAAAAAAAIQAAAAAAAQFJAAAAAAAAAOUAAAAAAAAA0QAAAAAAAADBAAAAAAAAAQUAAAAAAAAAqQAAAAAAAAABAAAAAAAAAIkAAAAAAAAAAQAAAAAAAAAAAAAAAAAAAEEAAAAAAAAA2QAAAAAAAAC5AAAAAAAAAJEAAAAAAAAAgQAAAAAAAAEVAAAAAAAAATUAAAAAAAAAuQAAAAAAAACZAAAAAAAAAMEAAAAAAAABGQAAAAAAAAEJAAAAAAAAAIEAAAAAAAAAiQAAAAAAAAAhAAAAAAAAAMUAAAAAAAAAiQAAAAAAAADFAAAAAAAAAGEAAAAAAAAA1QAAAAAAAACBAAAAAAAAAEEAAAAAAAAAyQAAAAAAAgEJAAAAAAAAAJEA=\"},\"shape\":[70],\"dtype\":\"float64\",\"order\":\"little\"}],[\"Google Scholar\",{\"type\":\"ndarray\",\"array\":{\"type\":\"bytes\",\"data\":\"3gQAAPwCAABiAAAARgEAACYAAADEAAAAjQAAAIYAAAAsAQAAEQAAAFwAAACbAAAARwAAAGAAAACeAAAA4AIAANwBAAAbAQAAdwAAABABAAB/AAAA3QQAAHEAAADEAAAASgAAAAcAAABIAAAA1AAAAMoAAAAOAAAASQAAACkAAACLAAAA/gIAAA0AAADCAgAAuwAAAPYAAACLAAAADAEAAJAAAABNAAAAPwAAAC8AAAASAAAAJQAAAIoAAADHAAAAdgAAAD0AAAA0AQAAHAIAAN0AAABbAAAA4gAAABgCAABDAQAAPwAAAK8AAAAkAAAA0QAAADkAAAB5AAAAXAAAAAkBAABpAAAAHgAAAKkCAAA1AQAAUgAAAA==\"},\"shape\":[70],\"dtype\":\"int32\",\"order\":\"little\"}],[\"Field\",{\"type\":\"ndarray\",\"array\":[\"Development\",\"Labor/IO\",\"Labor/IO\",\"Labor/IO\",\"Macro/Int/Trade\",\"Applied (gen.)\",\"Labor/IO\",\"Development\",\"Macro/Int/Trade\",\"Macro/Int/Trade\",\"Macro/Int/Trade\",\"Behavioral/Exp.\",\"Macro/Int/Trade\",\"Behavioral/Exp.\",\"Macro/Int/Trade\",\"Behavioral/Exp.\",\"Behavioral/Exp.\",\"Labor/IO\",\"Labor/IO\",\"Macro/Int/Trade\",\"Labor/IO\",\"Macro/Int/Trade\",\"Applied (gen.)\",\"Macro/Int/Trade\",\"Applied (gen.)\",\"Macro/Int/Trade\",\"Applied (gen.)\",\"Behavioral/Exp.\",\"Macro/Int/Trade\",\"Labor/IO\",\"Macro/Int/Trade\",\"Applied (gen.)\",\"Macro/Int/Trade\",\"Labor/IO\",\"Macro/Int/Trade\",\"Behavioral/Exp.\",\"Macro/Int/Trade\",\"Behavioral/Exp.\",\"Labor/IO\",\"Labor/IO\",\"Macro/Int/Trade\",\"Behavioral/Exp.\",\"Development\",\"Macro/Int/Trade\",\"Behavioral/Exp.\",\"Development\",\"Behavioral/Exp.\",\"Labor/IO\",\"Behavioral/Exp.\",\"Behavioral/Exp.\",\"Behavioral/Exp.\",\"Macro/Int/Trade\",\"Applied (gen.)\",\"Macro/Int/Trade\",\"Macro/Int/Trade\",\"Development\",\"Macro/Int/Trade\",\"Labor/IO\",\"Macro/Int/Trade\",\"Behavioral/Exp.\",\"Behavioral/Exp.\",\"Behavioral/Exp.\",\"Macro/Int/Trade\",\"Behavioral/Exp.\",\"Development\",\"Macro/Int/Trade\",\"Behavioral/Exp.\",\"Applied (gen.)\",\"Macro/Int/Trade\",\"Behavioral/Exp.\"],\"shape\":[70],\"dtype\":\"object\",\"order\":\"little\"}],[\"Replications\",{\"type\":\"ndarray\",\"array\":{\"type\":\"bytes\",\"data\":\"AAAAAAAA8D8AAAAAAADwPwAAAAAAAABAAAAAAAAAAAAAAAAAAAAAAAAAAAAAAAAAAAAAAAAAAAAAAAAAAAAAAAAAAAAAAAAAAAAAAAAAAAAAAAAAAAAAAAAAAAAAAABAAAAAAAAAAAAAAAAAAAAAAAAAAAAAAAAAAAAAAAAAAEAAAAAAAAAcQAAAAAAAAAAAAAAAAAAAAAAAAAAAAADwPwAAAAAAAAAAAAAAAAAA8D8AAAAAAADwPwAAAAAAAPA/AAAAAAAAAAAAAAAAAAAAAAAAAAAAAAAAAAAAAAAAAAAAAAAAAAAAAAAAAAAAAAAAAAAAAAAAAAAAAAAAAAAAAAAAAAAAAAAAAAAAAAAAFEAAAAAAAAAAAAAAAAAAACJAAAAAAAAAAAAAAAAAAADwPwAAAAAAAAAAAAAAAAAAAAAAAAAAAAAAAAAAAAAAAAAAAAAAAAAAAAAAAAAAAAAAAAAAAAAAAAAAAAAAAAAAAAAAAAAAAADwPwAAAAAAAAAAAAAAAAAAAAAAAAAAAADwPwAAAAAAAPA/AAAAAAAAAAAAAAAAAAAAAAAAAAAAAAAAAAAAAAAAAAAAAAAAAAAIQAAAAAAAAAAAAAAAAAAAAAAAAAAAAAAAAAAAAAAAAAAAAAAAAAAAAAAAAAAAAAAAAAAAAAAAAAAAAAAAAAAA8D8AAAAAAAAAAAAAAAAAAAAAAAAAAAAAAAAAAAAAAAAUQAAAAAAAAAAAAAAAAAAAGEA=\"},\"shape\":[70],\"dtype\":\"float64\",\"order\":\"little\"}],[\"Extensions\",{\"type\":\"ndarray\",\"array\":{\"type\":\"bytes\",\"data\":\"AAAAAAAAJEAAAAAAAAAAQAAAAAAAAAAAAAAAAAAAFEAAAAAAAAAAAAAAAAAAAAAAAAAAAAAAAAAAAAAAAAAAQAAAAAAAAABAAAAAAAAAAAAAAAAAAAAAAAAAAAAAAABAAAAAAAAAAAAAAAAAAAAIQAAAAAAAAAhAAAAAAAAAMEAAAAAAAAAUQAAAAAAAAPA/AAAAAAAA8D8AAAAAAAAAAAAAAAAAAAAAAAAAAAAAEEAAAAAAAAAAAAAAAAAAAAAAAAAAAAAA8D8AAAAAAAAAAAAAAAAAAAAAAAAAAAAAHEAAAAAAAADwPwAAAAAAAPA/AAAAAAAAAAAAAAAAAAAAAAAAAAAAAAAAAAAAAAAAAAAAAAAAAAAAAAAAAAAAACBAAAAAAAAACEAAAAAAAAAIQAAAAAAAAAAAAAAAAAAAAAAAAAAAAADwPwAAAAAAAAAAAAAAAAAA8D8AAAAAAAAAAAAAAAAAAAAAAAAAAAAAAAAAAAAAAAAQQAAAAAAAAAAAAAAAAAAAAAAAAAAAAAAAAAAAAAAAACJAAAAAAAAAAEAAAAAAAADwPwAAAAAAAAAAAAAAAAAAAAAAAAAAAAAIQAAAAAAAABBAAAAAAAAAAAAAAAAAAAAAAAAAAAAAAAAAAAAAAAAACEAAAAAAAADwPwAAAAAAAPA/AAAAAAAAEEAAAAAAAAAAAAAAAAAAAAAAAAAAAAAAAAAAAAAAAAAAQAAAAAAAABRAAAAAAAAAAAA=\"},\"shape\":[70],\"dtype\":\"float64\",\"order\":\"little\"}],[\"Both\",{\"type\":\"ndarray\",\"array\":{\"type\":\"bytes\",\"data\":\"AAAAAAAAJkAAAAAAAAAIQAAAAAAAAABAAAAAAAAAFEAAAAAAAAAAAAAAAAAAAAAAAAAAAAAAAAAAAAAAAAAAQAAAAAAAAABAAAAAAAAAAAAAAAAAAAAAAAAAAAAAABBAAAAAAAAAAAAAAAAAAAAIQAAAAAAAAAhAAAAAAAAAMkAAAAAAAAAoQAAAAAAAAPA/AAAAAAAA8D8AAAAAAADwPwAAAAAAAAAAAAAAAAAAFEAAAAAAAADwPwAAAAAAAPA/AAAAAAAA8D8AAAAAAAAAAAAAAAAAAAAAAAAAAAAAHEAAAAAAAADwPwAAAAAAAPA/AAAAAAAAAAAAAAAAAAAAAAAAAAAAAAAAAAAAAAAAFEAAAAAAAAAAAAAAAAAAADFAAAAAAAAACEAAAAAAAAAQQAAAAAAAAAAAAAAAAAAAAAAAAAAAAADwPwAAAAAAAAAAAAAAAAAA8D8AAAAAAAAAAAAAAAAAAAAAAAAAAAAAAAAAAAAAAAAUQAAAAAAAAAAAAAAAAAAAAAAAAAAAAADwPwAAAAAAACRAAAAAAAAAAEAAAAAAAADwPwAAAAAAAAAAAAAAAAAAAAAAAAAAAAAYQAAAAAAAABBAAAAAAAAAAAAAAAAAAAAAAAAAAAAAAAAAAAAAAAAACEAAAAAAAADwPwAAAAAAAPA/AAAAAAAAFEAAAAAAAAAAAAAAAAAAAAAAAAAAAAAAAAAAAAAAAAAcQAAAAAAAABRAAAAAAAAAGEA=\"},\"shape\":[70],\"dtype\":\"float64\",\"order\":\"little\"}]]}}},\"view\":{\"type\":\"object\",\"name\":\"CDSView\",\"id\":\"p1033\",\"attributes\":{\"filter\":{\"type\":\"object\",\"name\":\"AllIndices\",\"id\":\"p1034\"}}},\"glyph\":{\"type\":\"object\",\"name\":\"Circle\",\"id\":\"p1029\",\"attributes\":{\"x\":{\"type\":\"field\",\"field\":\"Web of Science\"},\"y\":{\"type\":\"field\",\"field\":\"Replications\"},\"size\":{\"type\":\"value\",\"value\":7},\"line_color\":{\"type\":\"value\",\"value\":\"red\"},\"line_alpha\":{\"type\":\"value\",\"value\":0.5},\"fill_color\":{\"type\":\"value\",\"value\":\"red\"},\"fill_alpha\":{\"type\":\"value\",\"value\":0.5},\"hatch_color\":{\"type\":\"value\",\"value\":\"red\"},\"hatch_alpha\":{\"type\":\"value\",\"value\":0.5}}},\"nonselection_glyph\":{\"type\":\"object\",\"name\":\"Circle\",\"id\":\"p1030\",\"attributes\":{\"x\":{\"type\":\"field\",\"field\":\"Web of Science\"},\"y\":{\"type\":\"field\",\"field\":\"Replications\"},\"size\":{\"type\":\"value\",\"value\":7},\"line_color\":{\"type\":\"value\",\"value\":\"red\"},\"line_alpha\":{\"type\":\"value\",\"value\":0.1},\"fill_color\":{\"type\":\"value\",\"value\":\"red\"},\"fill_alpha\":{\"type\":\"value\",\"value\":0.1},\"hatch_color\":{\"type\":\"value\",\"value\":\"red\"},\"hatch_alpha\":{\"type\":\"value\",\"value\":0.1}}},\"muted_glyph\":{\"type\":\"object\",\"name\":\"Circle\",\"id\":\"p1031\",\"attributes\":{\"x\":{\"type\":\"field\",\"field\":\"Web of Science\"},\"y\":{\"type\":\"field\",\"field\":\"Replications\"},\"size\":{\"type\":\"value\",\"value\":7},\"line_color\":{\"type\":\"value\",\"value\":\"red\"},\"line_alpha\":{\"type\":\"value\",\"value\":0.2},\"fill_color\":{\"type\":\"value\",\"value\":\"red\"},\"fill_alpha\":{\"type\":\"value\",\"value\":0.2},\"hatch_color\":{\"type\":\"value\",\"value\":\"red\"},\"hatch_alpha\":{\"type\":\"value\",\"value\":0.2}}}}},{\"type\":\"object\",\"name\":\"GlyphRenderer\",\"id\":\"p1043\",\"attributes\":{\"data_source\":{\"id\":\"p1001\"},\"view\":{\"type\":\"object\",\"name\":\"CDSView\",\"id\":\"p1044\",\"attributes\":{\"filter\":{\"type\":\"object\",\"name\":\"AllIndices\",\"id\":\"p1045\"}}},\"glyph\":{\"type\":\"object\",\"name\":\"Circle\",\"id\":\"p1040\",\"attributes\":{\"x\":{\"type\":\"field\",\"field\":\"Web of Science\"},\"y\":{\"type\":\"field\",\"field\":\"Extensions\"},\"size\":{\"type\":\"value\",\"value\":7},\"line_color\":{\"type\":\"value\",\"value\":\"blue\"},\"line_alpha\":{\"type\":\"value\",\"value\":0.5},\"fill_color\":{\"type\":\"value\",\"value\":\"blue\"},\"fill_alpha\":{\"type\":\"value\",\"value\":0.5},\"hatch_color\":{\"type\":\"value\",\"value\":\"blue\"},\"hatch_alpha\":{\"type\":\"value\",\"value\":0.5}}},\"nonselection_glyph\":{\"type\":\"object\",\"name\":\"Circle\",\"id\":\"p1041\",\"attributes\":{\"x\":{\"type\":\"field\",\"field\":\"Web of Science\"},\"y\":{\"type\":\"field\",\"field\":\"Extensions\"},\"size\":{\"type\":\"value\",\"value\":7},\"line_color\":{\"type\":\"value\",\"value\":\"blue\"},\"line_alpha\":{\"type\":\"value\",\"value\":0.1},\"fill_color\":{\"type\":\"value\",\"value\":\"blue\"},\"fill_alpha\":{\"type\":\"value\",\"value\":0.1},\"hatch_color\":{\"type\":\"value\",\"value\":\"blue\"},\"hatch_alpha\":{\"type\":\"value\",\"value\":0.1}}},\"muted_glyph\":{\"type\":\"object\",\"name\":\"Circle\",\"id\":\"p1042\",\"attributes\":{\"x\":{\"type\":\"field\",\"field\":\"Web of Science\"},\"y\":{\"type\":\"field\",\"field\":\"Extensions\"},\"size\":{\"type\":\"value\",\"value\":7},\"line_color\":{\"type\":\"value\",\"value\":\"blue\"},\"line_alpha\":{\"type\":\"value\",\"value\":0.2},\"fill_color\":{\"type\":\"value\",\"value\":\"blue\"},\"fill_alpha\":{\"type\":\"value\",\"value\":0.2},\"hatch_color\":{\"type\":\"value\",\"value\":\"blue\"},\"hatch_alpha\":{\"type\":\"value\",\"value\":0.2}}}}}],\"toolbar\":{\"type\":\"object\",\"name\":\"Toolbar\",\"id\":\"p1012\",\"attributes\":{\"tools\":[{\"type\":\"object\",\"name\":\"HoverTool\",\"id\":\"p1025\",\"attributes\":{\"renderers\":\"auto\",\"tooltips\":[[\"Title\",\"@Title\"],[\"(Web of Science, Replications)\",\"(@{Web of Science}, @{Replications})\"],[\"(Web of Science, Extensions)\",\"(@{Web of Science}, @{Extensions})\"]]}}]}},\"left\":[{\"type\":\"object\",\"name\":\"LinearAxis\",\"id\":\"p1020\",\"attributes\":{\"ticker\":{\"type\":\"object\",\"name\":\"BasicTicker\",\"id\":\"p1021\",\"attributes\":{\"mantissas\":[1,2,5]}},\"formatter\":{\"type\":\"object\",\"name\":\"BasicTickFormatter\",\"id\":\"p1022\"},\"axis_label\":\"Number of replications or extensions\",\"major_label_policy\":{\"type\":\"object\",\"name\":\"AllLabels\",\"id\":\"p1023\"}}}],\"below\":[{\"type\":\"object\",\"name\":\"LinearAxis\",\"id\":\"p1015\",\"attributes\":{\"ticker\":{\"type\":\"object\",\"name\":\"BasicTicker\",\"id\":\"p1016\",\"attributes\":{\"mantissas\":[1,2,5]}},\"formatter\":{\"type\":\"object\",\"name\":\"BasicTickFormatter\",\"id\":\"p1017\"},\"axis_label\":\"Number of citations in Web of Science\",\"major_label_policy\":{\"type\":\"object\",\"name\":\"AllLabels\",\"id\":\"p1018\"}}}],\"center\":[{\"type\":\"object\",\"name\":\"Grid\",\"id\":\"p1019\",\"attributes\":{\"axis\":{\"id\":\"p1015\"}}},{\"type\":\"object\",\"name\":\"Grid\",\"id\":\"p1024\",\"attributes\":{\"dimension\":1,\"axis\":{\"id\":\"p1020\"}}},{\"type\":\"object\",\"name\":\"Legend\",\"id\":\"p1035\",\"attributes\":{\"click_policy\":\"hide\",\"items\":[{\"type\":\"object\",\"name\":\"LegendItem\",\"id\":\"p1036\",\"attributes\":{\"label\":{\"type\":\"value\",\"value\":\"Replications\"},\"renderers\":[{\"id\":\"p1032\"}]}},{\"type\":\"object\",\"name\":\"LegendItem\",\"id\":\"p1046\",\"attributes\":{\"label\":{\"type\":\"value\",\"value\":\"Extensions\"},\"renderers\":[{\"id\":\"p1043\"}]}}]}}]}}]}};\n  const render_items = [{\"docid\":\"727255d7-808a-4bfe-a249-84dc0a1aea65\",\"roots\":{\"p1004\":\"a928fbab-d297-4435-b753-2c3319cb8579\"},\"root_ids\":[\"p1004\"]}];\n  root.Bokeh.embed.embed_items_notebook(docs_json, render_items);\n  }\n  if (root.Bokeh !== undefined) {\n    embed_document(root);\n  } else {\n    let attempts = 0;\n    const timer = setInterval(function(root) {\n      if (root.Bokeh !== undefined) {\n        clearInterval(timer);\n        embed_document(root);\n      } else {\n        attempts++;\n        if (attempts > 100) {\n          clearInterval(timer);\n          console.log(\"Bokeh: ERROR: Unable to run BokehJS code because BokehJS library is missing\");\n        }\n      }\n    }, 10, root)\n  }\n})(window);",
            "application/vnd.bokehjs_exec.v0+json": ""
          },
          "metadata": {
            "application/vnd.bokehjs_exec.v0+json": {
              "id": "p1004"
            }
          },
          "output_type": "display_data"
        }
      ],
      "source": [
        "# Import the necessary libraries\n",
        "from bokeh.plotting import figure, output_notebook, show\n",
        "from bokeh.models import ColumnDataSource, HoverTool\n",
        "import pandas as pd\n",
        "\n",
        "# Load your DataFrame from a CSV file (replace 'data.csv' with your file's name)\n",
        "df = pd.read_csv('data.csv')\n",
        "\n",
        "# Initialize Bokeh for Jupyter Notebook\n",
        "output_notebook()\n",
        "\n",
        "# Create a ColumnDataSource from your DataFrame\n",
        "source = ColumnDataSource(df)\n",
        "\n",
        "# Create the Bokeh figure\n",
        "p = figure(tools='hover', tooltips=[(\"Title\", \"@Title\"), (\"(Web of Science, Replications)\", \"(@{Web of Science}, @{Replications})\"), (\"(Web of Science, Extensions)\", \"(@{Web of Science}, @{Extensions})\")])\n",
        "\n",
        "# Plot the scatter points for 'Replications' and 'Extensions'\n",
        "p.circle(x='Web of Science', y='Replications', size=7, alpha=0.5, color='red', legend_label='Replications', source=source)\n",
        "p.circle(x='Web of Science', y='Extensions', size=7, alpha=0.5, color='blue', legend_label='Extensions', source=source)\n",
        "\n",
        "# Configure the plot\n",
        "p.legend.click_policy = 'hide'\n",
        "p.xaxis.axis_label = 'Number of citations in Web of Science'\n",
        "p.yaxis.axis_label = 'Number of replications or extensions'\n",
        "\n",
        "# Show the plot\n",
        "show(p)\n"
      ]
    },
    {
      "cell_type": "markdown",
      "metadata": {
        "id": "JwFNtaQIiE-w"
      },
      "source": [
        "## Other resources\n",
        "\n",
        "Here are some free, online resources for learning pandas/matplotlib:\n",
        "\n",
        "* QuantEcon lectures: [Pandas](https://lectures.quantecon.org/py/pandas.html), [Pandas for Panel Data](https://lectures.quantecon.org/py/pandas_panel.html), [Matplotlib](https://lectures.quantecon.org/py/matplotlib.html)\n",
        "* QuantEcon [Stata-R-Pandas cheatsheet](https://cheatsheets.quantecon.org/stats-cheatsheet.html)\n",
        "* SciPy 2017: [Anatomy of Matplotlib](https://www.youtube.com/watch?v=rARMKS8jE9g)\n",
        "* Coursera/University of Michigan: [Introduction to Data Science in Python](https://www.coursera.org/learn/python-data-analysis)"
      ]
    }
  ],
  "metadata": {
    "anaconda-cloud": {},
    "colab": {
      "collapsed_sections": [
        "EOHaIPdbiE-o",
        "HDJ62UlYiE-o",
        "7iXMKsgciE-p",
        "EFu2M-M-iE-p",
        "-E5fvqJMiE-s",
        "jAwoUjv2iE-s",
        "MKlzNs-fiE-v"
      ],
      "provenance": []
    },
    "kernelspec": {
      "display_name": "Python [default]",
      "language": "python",
      "name": "python3"
    },
    "language_info": {
      "codemirror_mode": {
        "name": "ipython",
        "version": 3
      },
      "file_extension": ".py",
      "mimetype": "text/x-python",
      "name": "python",
      "nbconvert_exporter": "python",
      "pygments_lexer": "ipython3",
      "version": "3.11.3"
    },
    "toc": {
      "colors": {
        "hover_highlight": "#DAA520",
        "navigate_num": "#000000",
        "navigate_text": "#333333",
        "running_highlight": "#FF0000",
        "selected_highlight": "#FFD700",
        "sidebar_border": "#EEEEEE",
        "wrapper_background": "#FFFFFF"
      },
      "moveMenuLeft": true,
      "nav_menu": {
        "height": "30px",
        "width": "252px"
      },
      "navigate_menu": true,
      "number_sections": true,
      "sideBar": true,
      "threshold": 4,
      "toc_cell": false,
      "toc_section_display": "block",
      "toc_window_display": false,
      "widenNotebook": false
    },
    "varInspector": {
      "cols": {
        "lenName": 16,
        "lenType": 16,
        "lenVar": 40
      },
      "kernels_config": {
        "python": {
          "delete_cmd_postfix": "",
          "delete_cmd_prefix": "del ",
          "library": "var_list.py",
          "varRefreshCmd": "print(var_dic_list())"
        },
        "r": {
          "delete_cmd_postfix": ") ",
          "delete_cmd_prefix": "rm(",
          "library": "var_list.r",
          "varRefreshCmd": "cat(var_dic_list()) "
        }
      },
      "types_to_exclude": [
        "module",
        "function",
        "builtin_function_or_method",
        "instance",
        "_Feature"
      ],
      "window_display": false
    }
  },
  "nbformat": 4,
  "nbformat_minor": 0
}
